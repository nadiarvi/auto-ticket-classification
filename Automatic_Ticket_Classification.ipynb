{
  "nbformat": 4,
  "nbformat_minor": 0,
  "metadata": {
    "colab": {
      "provenance": [],
      "collapsed_sections": [
        "BiAi1o5_GYWW"
      ],
      "include_colab_link": true
    },
    "kernelspec": {
      "name": "python3",
      "display_name": "Python 3"
    },
    "language_info": {
      "name": "python"
    }
  },
  "cells": [
    {
      "cell_type": "markdown",
      "metadata": {
        "id": "view-in-github",
        "colab_type": "text"
      },
      "source": [
        "<a href=\"https://colab.research.google.com/github/nadiarvi/auto-ticket-classification/blob/main/Automatic_Ticket_Classification.ipynb\" target=\"_parent\"><img src=\"https://colab.research.google.com/assets/colab-badge.svg\" alt=\"Open In Colab\"/></a>"
      ]
    },
    {
      "cell_type": "markdown",
      "source": [],
      "metadata": {
        "id": "1kKOjCeK5-GZ"
      }
    },
    {
      "cell_type": "markdown",
      "source": [
        "# Initialization"
      ],
      "metadata": {
        "id": "Q72ivpa1oAFO"
      }
    },
    {
      "cell_type": "code",
      "execution_count": null,
      "metadata": {
        "colab": {
          "base_uri": "https://localhost:8080/"
        },
        "id": "rmLBiKBBQWaC",
        "outputId": "6cfcd980-a199-4db1-9c8b-de9c7d707924"
      },
      "outputs": [
        {
          "output_type": "stream",
          "name": "stdout",
          "text": [
            "Mounted at /content/drive/\n"
          ]
        }
      ],
      "source": [
        "from google.colab import drive\n",
        "drive.mount('/content/drive/')"
      ]
    },
    {
      "cell_type": "code",
      "source": [
        "import pandas as pd\n",
        "import json\n",
        "from pandas.io.json import json_normalize"
      ],
      "metadata": {
        "id": "EDKqYl_9Q4fH"
      },
      "execution_count": null,
      "outputs": []
    },
    {
      "cell_type": "code",
      "source": [
        "USER = ''"
      ],
      "metadata": {
        "id": "pXu4kkfrF-1u"
      },
      "execution_count": null,
      "outputs": []
    },
    {
      "cell_type": "code",
      "source": [
        "if USER == 'EYZA':\n",
        "  root = '/content/drive/MyDrive/CS372/Project/'\n",
        "else:\n",
        "  root = '/content/drive/MyDrive/Project/'\n",
        "\n",
        "with open(root+'complaints-2021-05-14_08_16_.json') as f:\n",
        "  data = json.load(f)\n",
        "  df=pd.json_normalize(data)\n",
        "df.head()"
      ],
      "metadata": {
        "colab": {
          "base_uri": "https://localhost:8080/",
          "height": 438
        },
        "id": "odvHFQdtRDhq",
        "outputId": "3dd85994-6ef6-4bc3-c067-7eef76317957"
      },
      "execution_count": null,
      "outputs": [
        {
          "output_type": "execute_result",
          "data": {
            "text/plain": [
              "                _index      _type      _id  _score   _source.tags  \\\n",
              "0  complaint-public-v2  complaint  3211475     0.0           None   \n",
              "1  complaint-public-v2  complaint  3229299     0.0  Servicemember   \n",
              "2  complaint-public-v2  complaint  3199379     0.0           None   \n",
              "3  complaint-public-v2  complaint  2673060     0.0           None   \n",
              "4  complaint-public-v2  complaint  3203545     0.0           None   \n",
              "\n",
              "  _source.zip_code _source.complaint_id                       _source.issue  \\\n",
              "0            90301              3211475   Attempts to collect debt not owed   \n",
              "1            319XX              3229299     Written notification about debt   \n",
              "2            77069              3199379  Other features, terms, or problems   \n",
              "3            48066              2673060      Trouble during payment process   \n",
              "4            10473              3203545                    Fees or interest   \n",
              "\n",
              "       _source.date_received _source.state  ... _source.company_response  \\\n",
              "0  2019-04-13T12:00:00-05:00            CA  ...  Closed with explanation   \n",
              "1  2019-05-01T12:00:00-05:00            GA  ...  Closed with explanation   \n",
              "2  2019-04-02T12:00:00-05:00            TX  ...  Closed with explanation   \n",
              "3  2017-09-13T12:00:00-05:00            MI  ...  Closed with explanation   \n",
              "4  2019-04-05T12:00:00-05:00            NY  ...  Closed with explanation   \n",
              "\n",
              "        _source.company _source.submitted_via _source.date_sent_to_company  \\\n",
              "0  JPMORGAN CHASE & CO.                   Web    2019-04-13T12:00:00-05:00   \n",
              "1  JPMORGAN CHASE & CO.                   Web    2019-05-01T12:00:00-05:00   \n",
              "2  JPMORGAN CHASE & CO.                   Web    2019-04-02T12:00:00-05:00   \n",
              "3  JPMORGAN CHASE & CO.                   Web    2017-09-14T12:00:00-05:00   \n",
              "4  JPMORGAN CHASE & CO.              Referral    2019-04-05T12:00:00-05:00   \n",
              "\n",
              "  _source.company_public_response                         _source.sub_product  \\\n",
              "0                            None                            Credit card debt   \n",
              "1                            None                            Credit card debt   \n",
              "2                            None  General-purpose credit card or charge card   \n",
              "3                            None                  Conventional home mortgage   \n",
              "4                            None  General-purpose credit card or charge card   \n",
              "\n",
              "  _source.timely                    _source.complaint_what_happened  \\\n",
              "0            Yes                                                      \n",
              "1            Yes  Good morning my name is XXXX XXXX and I apprec...   \n",
              "2            Yes  I upgraded my XXXX XXXX card in XX/XX/2018 and...   \n",
              "3            Yes                                                      \n",
              "4            Yes                                                      \n",
              "\n",
              "                                  _source.sub_issue  \\\n",
              "0                                 Debt is not yours   \n",
              "1  Didn't receive enough information to verify debt   \n",
              "2             Problem with rewards from credit card   \n",
              "3                                              None   \n",
              "4                         Charged too much interest   \n",
              "\n",
              "  _source.consumer_consent_provided  \n",
              "0              Consent not provided  \n",
              "1                  Consent provided  \n",
              "2                  Consent provided  \n",
              "3              Consent not provided  \n",
              "4                               N/A  \n",
              "\n",
              "[5 rows x 22 columns]"
            ],
            "text/html": [
              "\n",
              "  <div id=\"df-9070b8fd-4854-4493-a4e5-6338621396f9\">\n",
              "    <div class=\"colab-df-container\">\n",
              "      <div>\n",
              "<style scoped>\n",
              "    .dataframe tbody tr th:only-of-type {\n",
              "        vertical-align: middle;\n",
              "    }\n",
              "\n",
              "    .dataframe tbody tr th {\n",
              "        vertical-align: top;\n",
              "    }\n",
              "\n",
              "    .dataframe thead th {\n",
              "        text-align: right;\n",
              "    }\n",
              "</style>\n",
              "<table border=\"1\" class=\"dataframe\">\n",
              "  <thead>\n",
              "    <tr style=\"text-align: right;\">\n",
              "      <th></th>\n",
              "      <th>_index</th>\n",
              "      <th>_type</th>\n",
              "      <th>_id</th>\n",
              "      <th>_score</th>\n",
              "      <th>_source.tags</th>\n",
              "      <th>_source.zip_code</th>\n",
              "      <th>_source.complaint_id</th>\n",
              "      <th>_source.issue</th>\n",
              "      <th>_source.date_received</th>\n",
              "      <th>_source.state</th>\n",
              "      <th>...</th>\n",
              "      <th>_source.company_response</th>\n",
              "      <th>_source.company</th>\n",
              "      <th>_source.submitted_via</th>\n",
              "      <th>_source.date_sent_to_company</th>\n",
              "      <th>_source.company_public_response</th>\n",
              "      <th>_source.sub_product</th>\n",
              "      <th>_source.timely</th>\n",
              "      <th>_source.complaint_what_happened</th>\n",
              "      <th>_source.sub_issue</th>\n",
              "      <th>_source.consumer_consent_provided</th>\n",
              "    </tr>\n",
              "  </thead>\n",
              "  <tbody>\n",
              "    <tr>\n",
              "      <th>0</th>\n",
              "      <td>complaint-public-v2</td>\n",
              "      <td>complaint</td>\n",
              "      <td>3211475</td>\n",
              "      <td>0.0</td>\n",
              "      <td>None</td>\n",
              "      <td>90301</td>\n",
              "      <td>3211475</td>\n",
              "      <td>Attempts to collect debt not owed</td>\n",
              "      <td>2019-04-13T12:00:00-05:00</td>\n",
              "      <td>CA</td>\n",
              "      <td>...</td>\n",
              "      <td>Closed with explanation</td>\n",
              "      <td>JPMORGAN CHASE &amp; CO.</td>\n",
              "      <td>Web</td>\n",
              "      <td>2019-04-13T12:00:00-05:00</td>\n",
              "      <td>None</td>\n",
              "      <td>Credit card debt</td>\n",
              "      <td>Yes</td>\n",
              "      <td></td>\n",
              "      <td>Debt is not yours</td>\n",
              "      <td>Consent not provided</td>\n",
              "    </tr>\n",
              "    <tr>\n",
              "      <th>1</th>\n",
              "      <td>complaint-public-v2</td>\n",
              "      <td>complaint</td>\n",
              "      <td>3229299</td>\n",
              "      <td>0.0</td>\n",
              "      <td>Servicemember</td>\n",
              "      <td>319XX</td>\n",
              "      <td>3229299</td>\n",
              "      <td>Written notification about debt</td>\n",
              "      <td>2019-05-01T12:00:00-05:00</td>\n",
              "      <td>GA</td>\n",
              "      <td>...</td>\n",
              "      <td>Closed with explanation</td>\n",
              "      <td>JPMORGAN CHASE &amp; CO.</td>\n",
              "      <td>Web</td>\n",
              "      <td>2019-05-01T12:00:00-05:00</td>\n",
              "      <td>None</td>\n",
              "      <td>Credit card debt</td>\n",
              "      <td>Yes</td>\n",
              "      <td>Good morning my name is XXXX XXXX and I apprec...</td>\n",
              "      <td>Didn't receive enough information to verify debt</td>\n",
              "      <td>Consent provided</td>\n",
              "    </tr>\n",
              "    <tr>\n",
              "      <th>2</th>\n",
              "      <td>complaint-public-v2</td>\n",
              "      <td>complaint</td>\n",
              "      <td>3199379</td>\n",
              "      <td>0.0</td>\n",
              "      <td>None</td>\n",
              "      <td>77069</td>\n",
              "      <td>3199379</td>\n",
              "      <td>Other features, terms, or problems</td>\n",
              "      <td>2019-04-02T12:00:00-05:00</td>\n",
              "      <td>TX</td>\n",
              "      <td>...</td>\n",
              "      <td>Closed with explanation</td>\n",
              "      <td>JPMORGAN CHASE &amp; CO.</td>\n",
              "      <td>Web</td>\n",
              "      <td>2019-04-02T12:00:00-05:00</td>\n",
              "      <td>None</td>\n",
              "      <td>General-purpose credit card or charge card</td>\n",
              "      <td>Yes</td>\n",
              "      <td>I upgraded my XXXX XXXX card in XX/XX/2018 and...</td>\n",
              "      <td>Problem with rewards from credit card</td>\n",
              "      <td>Consent provided</td>\n",
              "    </tr>\n",
              "    <tr>\n",
              "      <th>3</th>\n",
              "      <td>complaint-public-v2</td>\n",
              "      <td>complaint</td>\n",
              "      <td>2673060</td>\n",
              "      <td>0.0</td>\n",
              "      <td>None</td>\n",
              "      <td>48066</td>\n",
              "      <td>2673060</td>\n",
              "      <td>Trouble during payment process</td>\n",
              "      <td>2017-09-13T12:00:00-05:00</td>\n",
              "      <td>MI</td>\n",
              "      <td>...</td>\n",
              "      <td>Closed with explanation</td>\n",
              "      <td>JPMORGAN CHASE &amp; CO.</td>\n",
              "      <td>Web</td>\n",
              "      <td>2017-09-14T12:00:00-05:00</td>\n",
              "      <td>None</td>\n",
              "      <td>Conventional home mortgage</td>\n",
              "      <td>Yes</td>\n",
              "      <td></td>\n",
              "      <td>None</td>\n",
              "      <td>Consent not provided</td>\n",
              "    </tr>\n",
              "    <tr>\n",
              "      <th>4</th>\n",
              "      <td>complaint-public-v2</td>\n",
              "      <td>complaint</td>\n",
              "      <td>3203545</td>\n",
              "      <td>0.0</td>\n",
              "      <td>None</td>\n",
              "      <td>10473</td>\n",
              "      <td>3203545</td>\n",
              "      <td>Fees or interest</td>\n",
              "      <td>2019-04-05T12:00:00-05:00</td>\n",
              "      <td>NY</td>\n",
              "      <td>...</td>\n",
              "      <td>Closed with explanation</td>\n",
              "      <td>JPMORGAN CHASE &amp; CO.</td>\n",
              "      <td>Referral</td>\n",
              "      <td>2019-04-05T12:00:00-05:00</td>\n",
              "      <td>None</td>\n",
              "      <td>General-purpose credit card or charge card</td>\n",
              "      <td>Yes</td>\n",
              "      <td></td>\n",
              "      <td>Charged too much interest</td>\n",
              "      <td>N/A</td>\n",
              "    </tr>\n",
              "  </tbody>\n",
              "</table>\n",
              "<p>5 rows × 22 columns</p>\n",
              "</div>\n",
              "      <button class=\"colab-df-convert\" onclick=\"convertToInteractive('df-9070b8fd-4854-4493-a4e5-6338621396f9')\"\n",
              "              title=\"Convert this dataframe to an interactive table.\"\n",
              "              style=\"display:none;\">\n",
              "        \n",
              "  <svg xmlns=\"http://www.w3.org/2000/svg\" height=\"24px\"viewBox=\"0 0 24 24\"\n",
              "       width=\"24px\">\n",
              "    <path d=\"M0 0h24v24H0V0z\" fill=\"none\"/>\n",
              "    <path d=\"M18.56 5.44l.94 2.06.94-2.06 2.06-.94-2.06-.94-.94-2.06-.94 2.06-2.06.94zm-11 1L8.5 8.5l.94-2.06 2.06-.94-2.06-.94L8.5 2.5l-.94 2.06-2.06.94zm10 10l.94 2.06.94-2.06 2.06-.94-2.06-.94-.94-2.06-.94 2.06-2.06.94z\"/><path d=\"M17.41 7.96l-1.37-1.37c-.4-.4-.92-.59-1.43-.59-.52 0-1.04.2-1.43.59L10.3 9.45l-7.72 7.72c-.78.78-.78 2.05 0 2.83L4 21.41c.39.39.9.59 1.41.59.51 0 1.02-.2 1.41-.59l7.78-7.78 2.81-2.81c.8-.78.8-2.07 0-2.86zM5.41 20L4 18.59l7.72-7.72 1.47 1.35L5.41 20z\"/>\n",
              "  </svg>\n",
              "      </button>\n",
              "      \n",
              "  <style>\n",
              "    .colab-df-container {\n",
              "      display:flex;\n",
              "      flex-wrap:wrap;\n",
              "      gap: 12px;\n",
              "    }\n",
              "\n",
              "    .colab-df-convert {\n",
              "      background-color: #E8F0FE;\n",
              "      border: none;\n",
              "      border-radius: 50%;\n",
              "      cursor: pointer;\n",
              "      display: none;\n",
              "      fill: #1967D2;\n",
              "      height: 32px;\n",
              "      padding: 0 0 0 0;\n",
              "      width: 32px;\n",
              "    }\n",
              "\n",
              "    .colab-df-convert:hover {\n",
              "      background-color: #E2EBFA;\n",
              "      box-shadow: 0px 1px 2px rgba(60, 64, 67, 0.3), 0px 1px 3px 1px rgba(60, 64, 67, 0.15);\n",
              "      fill: #174EA6;\n",
              "    }\n",
              "\n",
              "    [theme=dark] .colab-df-convert {\n",
              "      background-color: #3B4455;\n",
              "      fill: #D2E3FC;\n",
              "    }\n",
              "\n",
              "    [theme=dark] .colab-df-convert:hover {\n",
              "      background-color: #434B5C;\n",
              "      box-shadow: 0px 1px 3px 1px rgba(0, 0, 0, 0.15);\n",
              "      filter: drop-shadow(0px 1px 2px rgba(0, 0, 0, 0.3));\n",
              "      fill: #FFFFFF;\n",
              "    }\n",
              "  </style>\n",
              "\n",
              "      <script>\n",
              "        const buttonEl =\n",
              "          document.querySelector('#df-9070b8fd-4854-4493-a4e5-6338621396f9 button.colab-df-convert');\n",
              "        buttonEl.style.display =\n",
              "          google.colab.kernel.accessAllowed ? 'block' : 'none';\n",
              "\n",
              "        async function convertToInteractive(key) {\n",
              "          const element = document.querySelector('#df-9070b8fd-4854-4493-a4e5-6338621396f9');\n",
              "          const dataTable =\n",
              "            await google.colab.kernel.invokeFunction('convertToInteractive',\n",
              "                                                     [key], {});\n",
              "          if (!dataTable) return;\n",
              "\n",
              "          const docLinkHtml = 'Like what you see? Visit the ' +\n",
              "            '<a target=\"_blank\" href=https://colab.research.google.com/notebooks/data_table.ipynb>data table notebook</a>'\n",
              "            + ' to learn more about interactive tables.';\n",
              "          element.innerHTML = '';\n",
              "          dataTable['output_type'] = 'display_data';\n",
              "          await google.colab.output.renderOutput(dataTable, element);\n",
              "          const docLink = document.createElement('div');\n",
              "          docLink.innerHTML = docLinkHtml;\n",
              "          element.appendChild(docLink);\n",
              "        }\n",
              "      </script>\n",
              "    </div>\n",
              "  </div>\n",
              "  "
            ]
          },
          "metadata": {},
          "execution_count": 4
        }
      ]
    },
    {
      "cell_type": "markdown",
      "source": [
        "#Data Cleaning\n",
        "- Take only columns of interest\n",
        "- Rename columns\n",
        "- Drop columns with NaN\n",
        "- Clean company_response"
      ],
      "metadata": {
        "id": "HaN_12X1iRfD"
      }
    },
    {
      "cell_type": "code",
      "source": [
        "interest = ['_source.issue', '_source.company_response',\n",
        "              '_source.complaint_what_happened', '_source.sub_product', '_source.sub_issue']\n",
        "df = df[interest]\n",
        "df"
      ],
      "metadata": {
        "id": "IHXraeILRY9Y",
        "colab": {
          "base_uri": "https://localhost:8080/",
          "height": 424
        },
        "outputId": "ff604311-df15-4b2d-dea7-c4b3e91e7bf7"
      },
      "execution_count": null,
      "outputs": [
        {
          "output_type": "execute_result",
          "data": {
            "text/plain": [
              "                                           _source.issue  \\\n",
              "0                      Attempts to collect debt not owed   \n",
              "1                        Written notification about debt   \n",
              "2                     Other features, terms, or problems   \n",
              "3                         Trouble during payment process   \n",
              "4                                       Fees or interest   \n",
              "...                                                  ...   \n",
              "78308                                 Closing an account   \n",
              "78309                 Other features, terms, or problems   \n",
              "78310  Problem with a lender or other company chargin...   \n",
              "78311                 Other features, terms, or problems   \n",
              "78312                       Payment to acct not credited   \n",
              "\n",
              "          _source.company_response  \\\n",
              "0          Closed with explanation   \n",
              "1          Closed with explanation   \n",
              "2          Closed with explanation   \n",
              "3          Closed with explanation   \n",
              "4          Closed with explanation   \n",
              "...                            ...   \n",
              "78308      Closed with explanation   \n",
              "78309  Closed with monetary relief   \n",
              "78310      Closed with explanation   \n",
              "78311  Closed with monetary relief   \n",
              "78312      Closed with explanation   \n",
              "\n",
              "                         _source.complaint_what_happened  \\\n",
              "0                                                          \n",
              "1      Good morning my name is XXXX XXXX and I apprec...   \n",
              "2      I upgraded my XXXX XXXX card in XX/XX/2018 and...   \n",
              "3                                                          \n",
              "4                                                          \n",
              "...                                                  ...   \n",
              "78308                                                      \n",
              "78309  On Wednesday, XX/XX/XXXX I called Chas, my XXX...   \n",
              "78310  I am not familiar with XXXX pay and did not un...   \n",
              "78311  I have had flawless credit for 30 yrs. I've ha...   \n",
              "78312  Roughly 10+ years ago I closed out my accounts...   \n",
              "\n",
              "                              _source.sub_product  \\\n",
              "0                                Credit card debt   \n",
              "1                                Credit card debt   \n",
              "2      General-purpose credit card or charge card   \n",
              "3                      Conventional home mortgage   \n",
              "4      General-purpose credit card or charge card   \n",
              "...                                           ...   \n",
              "78308                            Checking account   \n",
              "78309  General-purpose credit card or charge card   \n",
              "78310                            Checking account   \n",
              "78311  General-purpose credit card or charge card   \n",
              "78312                                        None   \n",
              "\n",
              "                                      _source.sub_issue  \n",
              "0                                     Debt is not yours  \n",
              "1      Didn't receive enough information to verify debt  \n",
              "2                 Problem with rewards from credit card  \n",
              "3                                                  None  \n",
              "4                             Charged too much interest  \n",
              "...                                                 ...  \n",
              "78308            Funds not received from closed account  \n",
              "78309                                     Other problem  \n",
              "78310                    Transaction was not authorized  \n",
              "78311                     Problem with balance transfer  \n",
              "78312                                              None  \n",
              "\n",
              "[78313 rows x 5 columns]"
            ],
            "text/html": [
              "\n",
              "  <div id=\"df-bee9e862-7c26-45b7-94d9-2801e5ecf10f\">\n",
              "    <div class=\"colab-df-container\">\n",
              "      <div>\n",
              "<style scoped>\n",
              "    .dataframe tbody tr th:only-of-type {\n",
              "        vertical-align: middle;\n",
              "    }\n",
              "\n",
              "    .dataframe tbody tr th {\n",
              "        vertical-align: top;\n",
              "    }\n",
              "\n",
              "    .dataframe thead th {\n",
              "        text-align: right;\n",
              "    }\n",
              "</style>\n",
              "<table border=\"1\" class=\"dataframe\">\n",
              "  <thead>\n",
              "    <tr style=\"text-align: right;\">\n",
              "      <th></th>\n",
              "      <th>_source.issue</th>\n",
              "      <th>_source.company_response</th>\n",
              "      <th>_source.complaint_what_happened</th>\n",
              "      <th>_source.sub_product</th>\n",
              "      <th>_source.sub_issue</th>\n",
              "    </tr>\n",
              "  </thead>\n",
              "  <tbody>\n",
              "    <tr>\n",
              "      <th>0</th>\n",
              "      <td>Attempts to collect debt not owed</td>\n",
              "      <td>Closed with explanation</td>\n",
              "      <td></td>\n",
              "      <td>Credit card debt</td>\n",
              "      <td>Debt is not yours</td>\n",
              "    </tr>\n",
              "    <tr>\n",
              "      <th>1</th>\n",
              "      <td>Written notification about debt</td>\n",
              "      <td>Closed with explanation</td>\n",
              "      <td>Good morning my name is XXXX XXXX and I apprec...</td>\n",
              "      <td>Credit card debt</td>\n",
              "      <td>Didn't receive enough information to verify debt</td>\n",
              "    </tr>\n",
              "    <tr>\n",
              "      <th>2</th>\n",
              "      <td>Other features, terms, or problems</td>\n",
              "      <td>Closed with explanation</td>\n",
              "      <td>I upgraded my XXXX XXXX card in XX/XX/2018 and...</td>\n",
              "      <td>General-purpose credit card or charge card</td>\n",
              "      <td>Problem with rewards from credit card</td>\n",
              "    </tr>\n",
              "    <tr>\n",
              "      <th>3</th>\n",
              "      <td>Trouble during payment process</td>\n",
              "      <td>Closed with explanation</td>\n",
              "      <td></td>\n",
              "      <td>Conventional home mortgage</td>\n",
              "      <td>None</td>\n",
              "    </tr>\n",
              "    <tr>\n",
              "      <th>4</th>\n",
              "      <td>Fees or interest</td>\n",
              "      <td>Closed with explanation</td>\n",
              "      <td></td>\n",
              "      <td>General-purpose credit card or charge card</td>\n",
              "      <td>Charged too much interest</td>\n",
              "    </tr>\n",
              "    <tr>\n",
              "      <th>...</th>\n",
              "      <td>...</td>\n",
              "      <td>...</td>\n",
              "      <td>...</td>\n",
              "      <td>...</td>\n",
              "      <td>...</td>\n",
              "    </tr>\n",
              "    <tr>\n",
              "      <th>78308</th>\n",
              "      <td>Closing an account</td>\n",
              "      <td>Closed with explanation</td>\n",
              "      <td></td>\n",
              "      <td>Checking account</td>\n",
              "      <td>Funds not received from closed account</td>\n",
              "    </tr>\n",
              "    <tr>\n",
              "      <th>78309</th>\n",
              "      <td>Other features, terms, or problems</td>\n",
              "      <td>Closed with monetary relief</td>\n",
              "      <td>On Wednesday, XX/XX/XXXX I called Chas, my XXX...</td>\n",
              "      <td>General-purpose credit card or charge card</td>\n",
              "      <td>Other problem</td>\n",
              "    </tr>\n",
              "    <tr>\n",
              "      <th>78310</th>\n",
              "      <td>Problem with a lender or other company chargin...</td>\n",
              "      <td>Closed with explanation</td>\n",
              "      <td>I am not familiar with XXXX pay and did not un...</td>\n",
              "      <td>Checking account</td>\n",
              "      <td>Transaction was not authorized</td>\n",
              "    </tr>\n",
              "    <tr>\n",
              "      <th>78311</th>\n",
              "      <td>Other features, terms, or problems</td>\n",
              "      <td>Closed with monetary relief</td>\n",
              "      <td>I have had flawless credit for 30 yrs. I've ha...</td>\n",
              "      <td>General-purpose credit card or charge card</td>\n",
              "      <td>Problem with balance transfer</td>\n",
              "    </tr>\n",
              "    <tr>\n",
              "      <th>78312</th>\n",
              "      <td>Payment to acct not credited</td>\n",
              "      <td>Closed with explanation</td>\n",
              "      <td>Roughly 10+ years ago I closed out my accounts...</td>\n",
              "      <td>None</td>\n",
              "      <td>None</td>\n",
              "    </tr>\n",
              "  </tbody>\n",
              "</table>\n",
              "<p>78313 rows × 5 columns</p>\n",
              "</div>\n",
              "      <button class=\"colab-df-convert\" onclick=\"convertToInteractive('df-bee9e862-7c26-45b7-94d9-2801e5ecf10f')\"\n",
              "              title=\"Convert this dataframe to an interactive table.\"\n",
              "              style=\"display:none;\">\n",
              "        \n",
              "  <svg xmlns=\"http://www.w3.org/2000/svg\" height=\"24px\"viewBox=\"0 0 24 24\"\n",
              "       width=\"24px\">\n",
              "    <path d=\"M0 0h24v24H0V0z\" fill=\"none\"/>\n",
              "    <path d=\"M18.56 5.44l.94 2.06.94-2.06 2.06-.94-2.06-.94-.94-2.06-.94 2.06-2.06.94zm-11 1L8.5 8.5l.94-2.06 2.06-.94-2.06-.94L8.5 2.5l-.94 2.06-2.06.94zm10 10l.94 2.06.94-2.06 2.06-.94-2.06-.94-.94-2.06-.94 2.06-2.06.94z\"/><path d=\"M17.41 7.96l-1.37-1.37c-.4-.4-.92-.59-1.43-.59-.52 0-1.04.2-1.43.59L10.3 9.45l-7.72 7.72c-.78.78-.78 2.05 0 2.83L4 21.41c.39.39.9.59 1.41.59.51 0 1.02-.2 1.41-.59l7.78-7.78 2.81-2.81c.8-.78.8-2.07 0-2.86zM5.41 20L4 18.59l7.72-7.72 1.47 1.35L5.41 20z\"/>\n",
              "  </svg>\n",
              "      </button>\n",
              "      \n",
              "  <style>\n",
              "    .colab-df-container {\n",
              "      display:flex;\n",
              "      flex-wrap:wrap;\n",
              "      gap: 12px;\n",
              "    }\n",
              "\n",
              "    .colab-df-convert {\n",
              "      background-color: #E8F0FE;\n",
              "      border: none;\n",
              "      border-radius: 50%;\n",
              "      cursor: pointer;\n",
              "      display: none;\n",
              "      fill: #1967D2;\n",
              "      height: 32px;\n",
              "      padding: 0 0 0 0;\n",
              "      width: 32px;\n",
              "    }\n",
              "\n",
              "    .colab-df-convert:hover {\n",
              "      background-color: #E2EBFA;\n",
              "      box-shadow: 0px 1px 2px rgba(60, 64, 67, 0.3), 0px 1px 3px 1px rgba(60, 64, 67, 0.15);\n",
              "      fill: #174EA6;\n",
              "    }\n",
              "\n",
              "    [theme=dark] .colab-df-convert {\n",
              "      background-color: #3B4455;\n",
              "      fill: #D2E3FC;\n",
              "    }\n",
              "\n",
              "    [theme=dark] .colab-df-convert:hover {\n",
              "      background-color: #434B5C;\n",
              "      box-shadow: 0px 1px 3px 1px rgba(0, 0, 0, 0.15);\n",
              "      filter: drop-shadow(0px 1px 2px rgba(0, 0, 0, 0.3));\n",
              "      fill: #FFFFFF;\n",
              "    }\n",
              "  </style>\n",
              "\n",
              "      <script>\n",
              "        const buttonEl =\n",
              "          document.querySelector('#df-bee9e862-7c26-45b7-94d9-2801e5ecf10f button.colab-df-convert');\n",
              "        buttonEl.style.display =\n",
              "          google.colab.kernel.accessAllowed ? 'block' : 'none';\n",
              "\n",
              "        async function convertToInteractive(key) {\n",
              "          const element = document.querySelector('#df-bee9e862-7c26-45b7-94d9-2801e5ecf10f');\n",
              "          const dataTable =\n",
              "            await google.colab.kernel.invokeFunction('convertToInteractive',\n",
              "                                                     [key], {});\n",
              "          if (!dataTable) return;\n",
              "\n",
              "          const docLinkHtml = 'Like what you see? Visit the ' +\n",
              "            '<a target=\"_blank\" href=https://colab.research.google.com/notebooks/data_table.ipynb>data table notebook</a>'\n",
              "            + ' to learn more about interactive tables.';\n",
              "          element.innerHTML = '';\n",
              "          dataTable['output_type'] = 'display_data';\n",
              "          await google.colab.output.renderOutput(dataTable, element);\n",
              "          const docLink = document.createElement('div');\n",
              "          docLink.innerHTML = docLinkHtml;\n",
              "          element.appendChild(docLink);\n",
              "        }\n",
              "      </script>\n",
              "    </div>\n",
              "  </div>\n",
              "  "
            ]
          },
          "metadata": {},
          "execution_count": 5
        }
      ]
    },
    {
      "cell_type": "code",
      "source": [
        "df.replace('', None, inplace=True)\n",
        "df.dropna(inplace=True)\n",
        "df.reset_index(inplace=True)\n",
        "df.drop('index', axis=1, inplace=True)\n",
        "df"
      ],
      "metadata": {
        "id": "N-NoNQPliEWl",
        "colab": {
          "base_uri": "https://localhost:8080/",
          "height": 728
        },
        "outputId": "c85e178e-bb53-41f6-fdcd-24a058dbaa43"
      },
      "execution_count": null,
      "outputs": [
        {
          "output_type": "stream",
          "name": "stderr",
          "text": [
            "<ipython-input-6-294f86d22617>:1: SettingWithCopyWarning: \n",
            "A value is trying to be set on a copy of a slice from a DataFrame\n",
            "\n",
            "See the caveats in the documentation: https://pandas.pydata.org/pandas-docs/stable/user_guide/indexing.html#returning-a-view-versus-a-copy\n",
            "  df.replace('', None, inplace=True)\n",
            "<ipython-input-6-294f86d22617>:2: SettingWithCopyWarning: \n",
            "A value is trying to be set on a copy of a slice from a DataFrame\n",
            "\n",
            "See the caveats in the documentation: https://pandas.pydata.org/pandas-docs/stable/user_guide/indexing.html#returning-a-view-versus-a-copy\n",
            "  df.dropna(inplace=True)\n",
            "<ipython-input-6-294f86d22617>:4: SettingWithCopyWarning: \n",
            "A value is trying to be set on a copy of a slice from a DataFrame\n",
            "\n",
            "See the caveats in the documentation: https://pandas.pydata.org/pandas-docs/stable/user_guide/indexing.html#returning-a-view-versus-a-copy\n",
            "  df.drop('index', axis=1, inplace=True)\n"
          ]
        },
        {
          "output_type": "execute_result",
          "data": {
            "text/plain": [
              "                                           _source.issue  \\\n",
              "0                        Written notification about debt   \n",
              "1                     Other features, terms, or problems   \n",
              "2                   Incorrect information on your report   \n",
              "3                   Incorrect information on your report   \n",
              "4                                    Managing an account   \n",
              "...                                                  ...   \n",
              "12853  Problem with a lender or other company chargin...   \n",
              "12854  Advertising and marketing, including promotion...   \n",
              "12855                 Other features, terms, or problems   \n",
              "12856  Problem with a lender or other company chargin...   \n",
              "12857                 Other features, terms, or problems   \n",
              "\n",
              "          _source.company_response  \\\n",
              "0          Closed with explanation   \n",
              "1          Closed with explanation   \n",
              "2          Closed with explanation   \n",
              "3          Closed with explanation   \n",
              "4          Closed with explanation   \n",
              "...                            ...   \n",
              "12853  Closed with monetary relief   \n",
              "12854      Closed with explanation   \n",
              "12855  Closed with monetary relief   \n",
              "12856      Closed with explanation   \n",
              "12857  Closed with monetary relief   \n",
              "\n",
              "                         _source.complaint_what_happened  \\\n",
              "0      Good morning my name is XXXX XXXX and I apprec...   \n",
              "1      I upgraded my XXXX XXXX card in XX/XX/2018 and...   \n",
              "2      Chase Card was reported on XX/XX/2019. However...   \n",
              "3      On XX/XX/2018, while trying to book a XXXX  XX...   \n",
              "4      my grand son give me check for {$1600.00} i de...   \n",
              "...                                                  ...   \n",
              "12853  My husband passed away. Chase bank put check o...   \n",
              "12854  After being a Chase Card customer for well ove...   \n",
              "12855  On Wednesday, XX/XX/XXXX I called Chas, my XXX...   \n",
              "12856  I am not familiar with XXXX pay and did not un...   \n",
              "12857  I have had flawless credit for 30 yrs. I've ha...   \n",
              "\n",
              "                              _source.sub_product  \\\n",
              "0                                Credit card debt   \n",
              "1      General-purpose credit card or charge card   \n",
              "2                  Other personal consumer report   \n",
              "3                                Credit reporting   \n",
              "4                                Checking account   \n",
              "...                                           ...   \n",
              "12853                            Checking account   \n",
              "12854  General-purpose credit card or charge card   \n",
              "12855  General-purpose credit card or charge card   \n",
              "12856                            Checking account   \n",
              "12857  General-purpose credit card or charge card   \n",
              "\n",
              "                                       _source.sub_issue  \n",
              "0       Didn't receive enough information to verify debt  \n",
              "1                  Problem with rewards from credit card  \n",
              "2                    Information belongs to someone else  \n",
              "3                    Information belongs to someone else  \n",
              "4           Funds not handled or disbursed as instructed  \n",
              "...                                                  ...  \n",
              "12853  Money was taken from your account on the wrong...  \n",
              "12854     Didn't receive advertised or promotional terms  \n",
              "12855                                      Other problem  \n",
              "12856                     Transaction was not authorized  \n",
              "12857                      Problem with balance transfer  \n",
              "\n",
              "[12858 rows x 5 columns]"
            ],
            "text/html": [
              "\n",
              "  <div id=\"df-97ad8c00-2c33-4025-82d4-c94e2d7bfa12\">\n",
              "    <div class=\"colab-df-container\">\n",
              "      <div>\n",
              "<style scoped>\n",
              "    .dataframe tbody tr th:only-of-type {\n",
              "        vertical-align: middle;\n",
              "    }\n",
              "\n",
              "    .dataframe tbody tr th {\n",
              "        vertical-align: top;\n",
              "    }\n",
              "\n",
              "    .dataframe thead th {\n",
              "        text-align: right;\n",
              "    }\n",
              "</style>\n",
              "<table border=\"1\" class=\"dataframe\">\n",
              "  <thead>\n",
              "    <tr style=\"text-align: right;\">\n",
              "      <th></th>\n",
              "      <th>_source.issue</th>\n",
              "      <th>_source.company_response</th>\n",
              "      <th>_source.complaint_what_happened</th>\n",
              "      <th>_source.sub_product</th>\n",
              "      <th>_source.sub_issue</th>\n",
              "    </tr>\n",
              "  </thead>\n",
              "  <tbody>\n",
              "    <tr>\n",
              "      <th>0</th>\n",
              "      <td>Written notification about debt</td>\n",
              "      <td>Closed with explanation</td>\n",
              "      <td>Good morning my name is XXXX XXXX and I apprec...</td>\n",
              "      <td>Credit card debt</td>\n",
              "      <td>Didn't receive enough information to verify debt</td>\n",
              "    </tr>\n",
              "    <tr>\n",
              "      <th>1</th>\n",
              "      <td>Other features, terms, or problems</td>\n",
              "      <td>Closed with explanation</td>\n",
              "      <td>I upgraded my XXXX XXXX card in XX/XX/2018 and...</td>\n",
              "      <td>General-purpose credit card or charge card</td>\n",
              "      <td>Problem with rewards from credit card</td>\n",
              "    </tr>\n",
              "    <tr>\n",
              "      <th>2</th>\n",
              "      <td>Incorrect information on your report</td>\n",
              "      <td>Closed with explanation</td>\n",
              "      <td>Chase Card was reported on XX/XX/2019. However...</td>\n",
              "      <td>Other personal consumer report</td>\n",
              "      <td>Information belongs to someone else</td>\n",
              "    </tr>\n",
              "    <tr>\n",
              "      <th>3</th>\n",
              "      <td>Incorrect information on your report</td>\n",
              "      <td>Closed with explanation</td>\n",
              "      <td>On XX/XX/2018, while trying to book a XXXX  XX...</td>\n",
              "      <td>Credit reporting</td>\n",
              "      <td>Information belongs to someone else</td>\n",
              "    </tr>\n",
              "    <tr>\n",
              "      <th>4</th>\n",
              "      <td>Managing an account</td>\n",
              "      <td>Closed with explanation</td>\n",
              "      <td>my grand son give me check for {$1600.00} i de...</td>\n",
              "      <td>Checking account</td>\n",
              "      <td>Funds not handled or disbursed as instructed</td>\n",
              "    </tr>\n",
              "    <tr>\n",
              "      <th>...</th>\n",
              "      <td>...</td>\n",
              "      <td>...</td>\n",
              "      <td>...</td>\n",
              "      <td>...</td>\n",
              "      <td>...</td>\n",
              "    </tr>\n",
              "    <tr>\n",
              "      <th>12853</th>\n",
              "      <td>Problem with a lender or other company chargin...</td>\n",
              "      <td>Closed with monetary relief</td>\n",
              "      <td>My husband passed away. Chase bank put check o...</td>\n",
              "      <td>Checking account</td>\n",
              "      <td>Money was taken from your account on the wrong...</td>\n",
              "    </tr>\n",
              "    <tr>\n",
              "      <th>12854</th>\n",
              "      <td>Advertising and marketing, including promotion...</td>\n",
              "      <td>Closed with explanation</td>\n",
              "      <td>After being a Chase Card customer for well ove...</td>\n",
              "      <td>General-purpose credit card or charge card</td>\n",
              "      <td>Didn't receive advertised or promotional terms</td>\n",
              "    </tr>\n",
              "    <tr>\n",
              "      <th>12855</th>\n",
              "      <td>Other features, terms, or problems</td>\n",
              "      <td>Closed with monetary relief</td>\n",
              "      <td>On Wednesday, XX/XX/XXXX I called Chas, my XXX...</td>\n",
              "      <td>General-purpose credit card or charge card</td>\n",
              "      <td>Other problem</td>\n",
              "    </tr>\n",
              "    <tr>\n",
              "      <th>12856</th>\n",
              "      <td>Problem with a lender or other company chargin...</td>\n",
              "      <td>Closed with explanation</td>\n",
              "      <td>I am not familiar with XXXX pay and did not un...</td>\n",
              "      <td>Checking account</td>\n",
              "      <td>Transaction was not authorized</td>\n",
              "    </tr>\n",
              "    <tr>\n",
              "      <th>12857</th>\n",
              "      <td>Other features, terms, or problems</td>\n",
              "      <td>Closed with monetary relief</td>\n",
              "      <td>I have had flawless credit for 30 yrs. I've ha...</td>\n",
              "      <td>General-purpose credit card or charge card</td>\n",
              "      <td>Problem with balance transfer</td>\n",
              "    </tr>\n",
              "  </tbody>\n",
              "</table>\n",
              "<p>12858 rows × 5 columns</p>\n",
              "</div>\n",
              "      <button class=\"colab-df-convert\" onclick=\"convertToInteractive('df-97ad8c00-2c33-4025-82d4-c94e2d7bfa12')\"\n",
              "              title=\"Convert this dataframe to an interactive table.\"\n",
              "              style=\"display:none;\">\n",
              "        \n",
              "  <svg xmlns=\"http://www.w3.org/2000/svg\" height=\"24px\"viewBox=\"0 0 24 24\"\n",
              "       width=\"24px\">\n",
              "    <path d=\"M0 0h24v24H0V0z\" fill=\"none\"/>\n",
              "    <path d=\"M18.56 5.44l.94 2.06.94-2.06 2.06-.94-2.06-.94-.94-2.06-.94 2.06-2.06.94zm-11 1L8.5 8.5l.94-2.06 2.06-.94-2.06-.94L8.5 2.5l-.94 2.06-2.06.94zm10 10l.94 2.06.94-2.06 2.06-.94-2.06-.94-.94-2.06-.94 2.06-2.06.94z\"/><path d=\"M17.41 7.96l-1.37-1.37c-.4-.4-.92-.59-1.43-.59-.52 0-1.04.2-1.43.59L10.3 9.45l-7.72 7.72c-.78.78-.78 2.05 0 2.83L4 21.41c.39.39.9.59 1.41.59.51 0 1.02-.2 1.41-.59l7.78-7.78 2.81-2.81c.8-.78.8-2.07 0-2.86zM5.41 20L4 18.59l7.72-7.72 1.47 1.35L5.41 20z\"/>\n",
              "  </svg>\n",
              "      </button>\n",
              "      \n",
              "  <style>\n",
              "    .colab-df-container {\n",
              "      display:flex;\n",
              "      flex-wrap:wrap;\n",
              "      gap: 12px;\n",
              "    }\n",
              "\n",
              "    .colab-df-convert {\n",
              "      background-color: #E8F0FE;\n",
              "      border: none;\n",
              "      border-radius: 50%;\n",
              "      cursor: pointer;\n",
              "      display: none;\n",
              "      fill: #1967D2;\n",
              "      height: 32px;\n",
              "      padding: 0 0 0 0;\n",
              "      width: 32px;\n",
              "    }\n",
              "\n",
              "    .colab-df-convert:hover {\n",
              "      background-color: #E2EBFA;\n",
              "      box-shadow: 0px 1px 2px rgba(60, 64, 67, 0.3), 0px 1px 3px 1px rgba(60, 64, 67, 0.15);\n",
              "      fill: #174EA6;\n",
              "    }\n",
              "\n",
              "    [theme=dark] .colab-df-convert {\n",
              "      background-color: #3B4455;\n",
              "      fill: #D2E3FC;\n",
              "    }\n",
              "\n",
              "    [theme=dark] .colab-df-convert:hover {\n",
              "      background-color: #434B5C;\n",
              "      box-shadow: 0px 1px 3px 1px rgba(0, 0, 0, 0.15);\n",
              "      filter: drop-shadow(0px 1px 2px rgba(0, 0, 0, 0.3));\n",
              "      fill: #FFFFFF;\n",
              "    }\n",
              "  </style>\n",
              "\n",
              "      <script>\n",
              "        const buttonEl =\n",
              "          document.querySelector('#df-97ad8c00-2c33-4025-82d4-c94e2d7bfa12 button.colab-df-convert');\n",
              "        buttonEl.style.display =\n",
              "          google.colab.kernel.accessAllowed ? 'block' : 'none';\n",
              "\n",
              "        async function convertToInteractive(key) {\n",
              "          const element = document.querySelector('#df-97ad8c00-2c33-4025-82d4-c94e2d7bfa12');\n",
              "          const dataTable =\n",
              "            await google.colab.kernel.invokeFunction('convertToInteractive',\n",
              "                                                     [key], {});\n",
              "          if (!dataTable) return;\n",
              "\n",
              "          const docLinkHtml = 'Like what you see? Visit the ' +\n",
              "            '<a target=\"_blank\" href=https://colab.research.google.com/notebooks/data_table.ipynb>data table notebook</a>'\n",
              "            + ' to learn more about interactive tables.';\n",
              "          element.innerHTML = '';\n",
              "          dataTable['output_type'] = 'display_data';\n",
              "          await google.colab.output.renderOutput(dataTable, element);\n",
              "          const docLink = document.createElement('div');\n",
              "          docLink.innerHTML = docLinkHtml;\n",
              "          element.appendChild(docLink);\n",
              "        }\n",
              "      </script>\n",
              "    </div>\n",
              "  </div>\n",
              "  "
            ]
          },
          "metadata": {},
          "execution_count": 6
        }
      ]
    },
    {
      "cell_type": "code",
      "source": [
        "df.rename(columns={'_source.issue': 'issue', '_source.company_response': 'company_response', '_source.complaint_what_happened': 'complaint', '_source.sub_product': 'product', '_source.sub_issue': 'sub_issue'}, inplace=True)\n",
        "df"
      ],
      "metadata": {
        "id": "XOPm58a7jMxm",
        "colab": {
          "base_uri": "https://localhost:8080/",
          "height": 530
        },
        "outputId": "e0a07956-5375-4f4f-9d7e-4ddff2e1553e"
      },
      "execution_count": null,
      "outputs": [
        {
          "output_type": "stream",
          "name": "stderr",
          "text": [
            "<ipython-input-7-9665abb3e32f>:1: SettingWithCopyWarning: \n",
            "A value is trying to be set on a copy of a slice from a DataFrame\n",
            "\n",
            "See the caveats in the documentation: https://pandas.pydata.org/pandas-docs/stable/user_guide/indexing.html#returning-a-view-versus-a-copy\n",
            "  df.rename(columns={'_source.issue': 'issue', '_source.company_response': 'company_response', '_source.complaint_what_happened': 'complaint', '_source.sub_product': 'product', '_source.sub_issue': 'sub_issue'}, inplace=True)\n"
          ]
        },
        {
          "output_type": "execute_result",
          "data": {
            "text/plain": [
              "                                                   issue  \\\n",
              "0                        Written notification about debt   \n",
              "1                     Other features, terms, or problems   \n",
              "2                   Incorrect information on your report   \n",
              "3                   Incorrect information on your report   \n",
              "4                                    Managing an account   \n",
              "...                                                  ...   \n",
              "12853  Problem with a lender or other company chargin...   \n",
              "12854  Advertising and marketing, including promotion...   \n",
              "12855                 Other features, terms, or problems   \n",
              "12856  Problem with a lender or other company chargin...   \n",
              "12857                 Other features, terms, or problems   \n",
              "\n",
              "                  company_response  \\\n",
              "0          Closed with explanation   \n",
              "1          Closed with explanation   \n",
              "2          Closed with explanation   \n",
              "3          Closed with explanation   \n",
              "4          Closed with explanation   \n",
              "...                            ...   \n",
              "12853  Closed with monetary relief   \n",
              "12854      Closed with explanation   \n",
              "12855  Closed with monetary relief   \n",
              "12856      Closed with explanation   \n",
              "12857  Closed with monetary relief   \n",
              "\n",
              "                                               complaint  \\\n",
              "0      Good morning my name is XXXX XXXX and I apprec...   \n",
              "1      I upgraded my XXXX XXXX card in XX/XX/2018 and...   \n",
              "2      Chase Card was reported on XX/XX/2019. However...   \n",
              "3      On XX/XX/2018, while trying to book a XXXX  XX...   \n",
              "4      my grand son give me check for {$1600.00} i de...   \n",
              "...                                                  ...   \n",
              "12853  My husband passed away. Chase bank put check o...   \n",
              "12854  After being a Chase Card customer for well ove...   \n",
              "12855  On Wednesday, XX/XX/XXXX I called Chas, my XXX...   \n",
              "12856  I am not familiar with XXXX pay and did not un...   \n",
              "12857  I have had flawless credit for 30 yrs. I've ha...   \n",
              "\n",
              "                                          product  \\\n",
              "0                                Credit card debt   \n",
              "1      General-purpose credit card or charge card   \n",
              "2                  Other personal consumer report   \n",
              "3                                Credit reporting   \n",
              "4                                Checking account   \n",
              "...                                           ...   \n",
              "12853                            Checking account   \n",
              "12854  General-purpose credit card or charge card   \n",
              "12855  General-purpose credit card or charge card   \n",
              "12856                            Checking account   \n",
              "12857  General-purpose credit card or charge card   \n",
              "\n",
              "                                               sub_issue  \n",
              "0       Didn't receive enough information to verify debt  \n",
              "1                  Problem with rewards from credit card  \n",
              "2                    Information belongs to someone else  \n",
              "3                    Information belongs to someone else  \n",
              "4           Funds not handled or disbursed as instructed  \n",
              "...                                                  ...  \n",
              "12853  Money was taken from your account on the wrong...  \n",
              "12854     Didn't receive advertised or promotional terms  \n",
              "12855                                      Other problem  \n",
              "12856                     Transaction was not authorized  \n",
              "12857                      Problem with balance transfer  \n",
              "\n",
              "[12858 rows x 5 columns]"
            ],
            "text/html": [
              "\n",
              "  <div id=\"df-2f337440-4024-4631-8b86-c897a676fbb9\">\n",
              "    <div class=\"colab-df-container\">\n",
              "      <div>\n",
              "<style scoped>\n",
              "    .dataframe tbody tr th:only-of-type {\n",
              "        vertical-align: middle;\n",
              "    }\n",
              "\n",
              "    .dataframe tbody tr th {\n",
              "        vertical-align: top;\n",
              "    }\n",
              "\n",
              "    .dataframe thead th {\n",
              "        text-align: right;\n",
              "    }\n",
              "</style>\n",
              "<table border=\"1\" class=\"dataframe\">\n",
              "  <thead>\n",
              "    <tr style=\"text-align: right;\">\n",
              "      <th></th>\n",
              "      <th>issue</th>\n",
              "      <th>company_response</th>\n",
              "      <th>complaint</th>\n",
              "      <th>product</th>\n",
              "      <th>sub_issue</th>\n",
              "    </tr>\n",
              "  </thead>\n",
              "  <tbody>\n",
              "    <tr>\n",
              "      <th>0</th>\n",
              "      <td>Written notification about debt</td>\n",
              "      <td>Closed with explanation</td>\n",
              "      <td>Good morning my name is XXXX XXXX and I apprec...</td>\n",
              "      <td>Credit card debt</td>\n",
              "      <td>Didn't receive enough information to verify debt</td>\n",
              "    </tr>\n",
              "    <tr>\n",
              "      <th>1</th>\n",
              "      <td>Other features, terms, or problems</td>\n",
              "      <td>Closed with explanation</td>\n",
              "      <td>I upgraded my XXXX XXXX card in XX/XX/2018 and...</td>\n",
              "      <td>General-purpose credit card or charge card</td>\n",
              "      <td>Problem with rewards from credit card</td>\n",
              "    </tr>\n",
              "    <tr>\n",
              "      <th>2</th>\n",
              "      <td>Incorrect information on your report</td>\n",
              "      <td>Closed with explanation</td>\n",
              "      <td>Chase Card was reported on XX/XX/2019. However...</td>\n",
              "      <td>Other personal consumer report</td>\n",
              "      <td>Information belongs to someone else</td>\n",
              "    </tr>\n",
              "    <tr>\n",
              "      <th>3</th>\n",
              "      <td>Incorrect information on your report</td>\n",
              "      <td>Closed with explanation</td>\n",
              "      <td>On XX/XX/2018, while trying to book a XXXX  XX...</td>\n",
              "      <td>Credit reporting</td>\n",
              "      <td>Information belongs to someone else</td>\n",
              "    </tr>\n",
              "    <tr>\n",
              "      <th>4</th>\n",
              "      <td>Managing an account</td>\n",
              "      <td>Closed with explanation</td>\n",
              "      <td>my grand son give me check for {$1600.00} i de...</td>\n",
              "      <td>Checking account</td>\n",
              "      <td>Funds not handled or disbursed as instructed</td>\n",
              "    </tr>\n",
              "    <tr>\n",
              "      <th>...</th>\n",
              "      <td>...</td>\n",
              "      <td>...</td>\n",
              "      <td>...</td>\n",
              "      <td>...</td>\n",
              "      <td>...</td>\n",
              "    </tr>\n",
              "    <tr>\n",
              "      <th>12853</th>\n",
              "      <td>Problem with a lender or other company chargin...</td>\n",
              "      <td>Closed with monetary relief</td>\n",
              "      <td>My husband passed away. Chase bank put check o...</td>\n",
              "      <td>Checking account</td>\n",
              "      <td>Money was taken from your account on the wrong...</td>\n",
              "    </tr>\n",
              "    <tr>\n",
              "      <th>12854</th>\n",
              "      <td>Advertising and marketing, including promotion...</td>\n",
              "      <td>Closed with explanation</td>\n",
              "      <td>After being a Chase Card customer for well ove...</td>\n",
              "      <td>General-purpose credit card or charge card</td>\n",
              "      <td>Didn't receive advertised or promotional terms</td>\n",
              "    </tr>\n",
              "    <tr>\n",
              "      <th>12855</th>\n",
              "      <td>Other features, terms, or problems</td>\n",
              "      <td>Closed with monetary relief</td>\n",
              "      <td>On Wednesday, XX/XX/XXXX I called Chas, my XXX...</td>\n",
              "      <td>General-purpose credit card or charge card</td>\n",
              "      <td>Other problem</td>\n",
              "    </tr>\n",
              "    <tr>\n",
              "      <th>12856</th>\n",
              "      <td>Problem with a lender or other company chargin...</td>\n",
              "      <td>Closed with explanation</td>\n",
              "      <td>I am not familiar with XXXX pay and did not un...</td>\n",
              "      <td>Checking account</td>\n",
              "      <td>Transaction was not authorized</td>\n",
              "    </tr>\n",
              "    <tr>\n",
              "      <th>12857</th>\n",
              "      <td>Other features, terms, or problems</td>\n",
              "      <td>Closed with monetary relief</td>\n",
              "      <td>I have had flawless credit for 30 yrs. I've ha...</td>\n",
              "      <td>General-purpose credit card or charge card</td>\n",
              "      <td>Problem with balance transfer</td>\n",
              "    </tr>\n",
              "  </tbody>\n",
              "</table>\n",
              "<p>12858 rows × 5 columns</p>\n",
              "</div>\n",
              "      <button class=\"colab-df-convert\" onclick=\"convertToInteractive('df-2f337440-4024-4631-8b86-c897a676fbb9')\"\n",
              "              title=\"Convert this dataframe to an interactive table.\"\n",
              "              style=\"display:none;\">\n",
              "        \n",
              "  <svg xmlns=\"http://www.w3.org/2000/svg\" height=\"24px\"viewBox=\"0 0 24 24\"\n",
              "       width=\"24px\">\n",
              "    <path d=\"M0 0h24v24H0V0z\" fill=\"none\"/>\n",
              "    <path d=\"M18.56 5.44l.94 2.06.94-2.06 2.06-.94-2.06-.94-.94-2.06-.94 2.06-2.06.94zm-11 1L8.5 8.5l.94-2.06 2.06-.94-2.06-.94L8.5 2.5l-.94 2.06-2.06.94zm10 10l.94 2.06.94-2.06 2.06-.94-2.06-.94-.94-2.06-.94 2.06-2.06.94z\"/><path d=\"M17.41 7.96l-1.37-1.37c-.4-.4-.92-.59-1.43-.59-.52 0-1.04.2-1.43.59L10.3 9.45l-7.72 7.72c-.78.78-.78 2.05 0 2.83L4 21.41c.39.39.9.59 1.41.59.51 0 1.02-.2 1.41-.59l7.78-7.78 2.81-2.81c.8-.78.8-2.07 0-2.86zM5.41 20L4 18.59l7.72-7.72 1.47 1.35L5.41 20z\"/>\n",
              "  </svg>\n",
              "      </button>\n",
              "      \n",
              "  <style>\n",
              "    .colab-df-container {\n",
              "      display:flex;\n",
              "      flex-wrap:wrap;\n",
              "      gap: 12px;\n",
              "    }\n",
              "\n",
              "    .colab-df-convert {\n",
              "      background-color: #E8F0FE;\n",
              "      border: none;\n",
              "      border-radius: 50%;\n",
              "      cursor: pointer;\n",
              "      display: none;\n",
              "      fill: #1967D2;\n",
              "      height: 32px;\n",
              "      padding: 0 0 0 0;\n",
              "      width: 32px;\n",
              "    }\n",
              "\n",
              "    .colab-df-convert:hover {\n",
              "      background-color: #E2EBFA;\n",
              "      box-shadow: 0px 1px 2px rgba(60, 64, 67, 0.3), 0px 1px 3px 1px rgba(60, 64, 67, 0.15);\n",
              "      fill: #174EA6;\n",
              "    }\n",
              "\n",
              "    [theme=dark] .colab-df-convert {\n",
              "      background-color: #3B4455;\n",
              "      fill: #D2E3FC;\n",
              "    }\n",
              "\n",
              "    [theme=dark] .colab-df-convert:hover {\n",
              "      background-color: #434B5C;\n",
              "      box-shadow: 0px 1px 3px 1px rgba(0, 0, 0, 0.15);\n",
              "      filter: drop-shadow(0px 1px 2px rgba(0, 0, 0, 0.3));\n",
              "      fill: #FFFFFF;\n",
              "    }\n",
              "  </style>\n",
              "\n",
              "      <script>\n",
              "        const buttonEl =\n",
              "          document.querySelector('#df-2f337440-4024-4631-8b86-c897a676fbb9 button.colab-df-convert');\n",
              "        buttonEl.style.display =\n",
              "          google.colab.kernel.accessAllowed ? 'block' : 'none';\n",
              "\n",
              "        async function convertToInteractive(key) {\n",
              "          const element = document.querySelector('#df-2f337440-4024-4631-8b86-c897a676fbb9');\n",
              "          const dataTable =\n",
              "            await google.colab.kernel.invokeFunction('convertToInteractive',\n",
              "                                                     [key], {});\n",
              "          if (!dataTable) return;\n",
              "\n",
              "          const docLinkHtml = 'Like what you see? Visit the ' +\n",
              "            '<a target=\"_blank\" href=https://colab.research.google.com/notebooks/data_table.ipynb>data table notebook</a>'\n",
              "            + ' to learn more about interactive tables.';\n",
              "          element.innerHTML = '';\n",
              "          dataTable['output_type'] = 'display_data';\n",
              "          await google.colab.output.renderOutput(dataTable, element);\n",
              "          const docLink = document.createElement('div');\n",
              "          docLink.innerHTML = docLinkHtml;\n",
              "          element.appendChild(docLink);\n",
              "        }\n",
              "      </script>\n",
              "    </div>\n",
              "  </div>\n",
              "  "
            ]
          },
          "metadata": {},
          "execution_count": 7
        }
      ]
    },
    {
      "cell_type": "code",
      "source": [
        "import re\n",
        "\n",
        "df['company_response'] = df['company_response'].apply(lambda x: re.match(r'Closed with (.*)', x).group(1))\n",
        "df"
      ],
      "metadata": {
        "id": "Q3xbLhloiIvJ",
        "colab": {
          "base_uri": "https://localhost:8080/",
          "height": 424
        },
        "outputId": "b5e5a29b-1960-45cc-f710-3a9bf2e6427f"
      },
      "execution_count": null,
      "outputs": [
        {
          "output_type": "execute_result",
          "data": {
            "text/plain": [
              "                                                   issue company_response  \\\n",
              "0                        Written notification about debt      explanation   \n",
              "1                     Other features, terms, or problems      explanation   \n",
              "2                   Incorrect information on your report      explanation   \n",
              "3                   Incorrect information on your report      explanation   \n",
              "4                                    Managing an account      explanation   \n",
              "...                                                  ...              ...   \n",
              "12853  Problem with a lender or other company chargin...  monetary relief   \n",
              "12854  Advertising and marketing, including promotion...      explanation   \n",
              "12855                 Other features, terms, or problems  monetary relief   \n",
              "12856  Problem with a lender or other company chargin...      explanation   \n",
              "12857                 Other features, terms, or problems  monetary relief   \n",
              "\n",
              "                                               complaint  \\\n",
              "0      Good morning my name is XXXX XXXX and I apprec...   \n",
              "1      I upgraded my XXXX XXXX card in XX/XX/2018 and...   \n",
              "2      Chase Card was reported on XX/XX/2019. However...   \n",
              "3      On XX/XX/2018, while trying to book a XXXX  XX...   \n",
              "4      my grand son give me check for {$1600.00} i de...   \n",
              "...                                                  ...   \n",
              "12853  My husband passed away. Chase bank put check o...   \n",
              "12854  After being a Chase Card customer for well ove...   \n",
              "12855  On Wednesday, XX/XX/XXXX I called Chas, my XXX...   \n",
              "12856  I am not familiar with XXXX pay and did not un...   \n",
              "12857  I have had flawless credit for 30 yrs. I've ha...   \n",
              "\n",
              "                                          product  \\\n",
              "0                                Credit card debt   \n",
              "1      General-purpose credit card or charge card   \n",
              "2                  Other personal consumer report   \n",
              "3                                Credit reporting   \n",
              "4                                Checking account   \n",
              "...                                           ...   \n",
              "12853                            Checking account   \n",
              "12854  General-purpose credit card or charge card   \n",
              "12855  General-purpose credit card or charge card   \n",
              "12856                            Checking account   \n",
              "12857  General-purpose credit card or charge card   \n",
              "\n",
              "                                               sub_issue  \n",
              "0       Didn't receive enough information to verify debt  \n",
              "1                  Problem with rewards from credit card  \n",
              "2                    Information belongs to someone else  \n",
              "3                    Information belongs to someone else  \n",
              "4           Funds not handled or disbursed as instructed  \n",
              "...                                                  ...  \n",
              "12853  Money was taken from your account on the wrong...  \n",
              "12854     Didn't receive advertised or promotional terms  \n",
              "12855                                      Other problem  \n",
              "12856                     Transaction was not authorized  \n",
              "12857                      Problem with balance transfer  \n",
              "\n",
              "[12858 rows x 5 columns]"
            ],
            "text/html": [
              "\n",
              "  <div id=\"df-666e3b19-2805-488e-9420-d7685ed9e26b\">\n",
              "    <div class=\"colab-df-container\">\n",
              "      <div>\n",
              "<style scoped>\n",
              "    .dataframe tbody tr th:only-of-type {\n",
              "        vertical-align: middle;\n",
              "    }\n",
              "\n",
              "    .dataframe tbody tr th {\n",
              "        vertical-align: top;\n",
              "    }\n",
              "\n",
              "    .dataframe thead th {\n",
              "        text-align: right;\n",
              "    }\n",
              "</style>\n",
              "<table border=\"1\" class=\"dataframe\">\n",
              "  <thead>\n",
              "    <tr style=\"text-align: right;\">\n",
              "      <th></th>\n",
              "      <th>issue</th>\n",
              "      <th>company_response</th>\n",
              "      <th>complaint</th>\n",
              "      <th>product</th>\n",
              "      <th>sub_issue</th>\n",
              "    </tr>\n",
              "  </thead>\n",
              "  <tbody>\n",
              "    <tr>\n",
              "      <th>0</th>\n",
              "      <td>Written notification about debt</td>\n",
              "      <td>explanation</td>\n",
              "      <td>Good morning my name is XXXX XXXX and I apprec...</td>\n",
              "      <td>Credit card debt</td>\n",
              "      <td>Didn't receive enough information to verify debt</td>\n",
              "    </tr>\n",
              "    <tr>\n",
              "      <th>1</th>\n",
              "      <td>Other features, terms, or problems</td>\n",
              "      <td>explanation</td>\n",
              "      <td>I upgraded my XXXX XXXX card in XX/XX/2018 and...</td>\n",
              "      <td>General-purpose credit card or charge card</td>\n",
              "      <td>Problem with rewards from credit card</td>\n",
              "    </tr>\n",
              "    <tr>\n",
              "      <th>2</th>\n",
              "      <td>Incorrect information on your report</td>\n",
              "      <td>explanation</td>\n",
              "      <td>Chase Card was reported on XX/XX/2019. However...</td>\n",
              "      <td>Other personal consumer report</td>\n",
              "      <td>Information belongs to someone else</td>\n",
              "    </tr>\n",
              "    <tr>\n",
              "      <th>3</th>\n",
              "      <td>Incorrect information on your report</td>\n",
              "      <td>explanation</td>\n",
              "      <td>On XX/XX/2018, while trying to book a XXXX  XX...</td>\n",
              "      <td>Credit reporting</td>\n",
              "      <td>Information belongs to someone else</td>\n",
              "    </tr>\n",
              "    <tr>\n",
              "      <th>4</th>\n",
              "      <td>Managing an account</td>\n",
              "      <td>explanation</td>\n",
              "      <td>my grand son give me check for {$1600.00} i de...</td>\n",
              "      <td>Checking account</td>\n",
              "      <td>Funds not handled or disbursed as instructed</td>\n",
              "    </tr>\n",
              "    <tr>\n",
              "      <th>...</th>\n",
              "      <td>...</td>\n",
              "      <td>...</td>\n",
              "      <td>...</td>\n",
              "      <td>...</td>\n",
              "      <td>...</td>\n",
              "    </tr>\n",
              "    <tr>\n",
              "      <th>12853</th>\n",
              "      <td>Problem with a lender or other company chargin...</td>\n",
              "      <td>monetary relief</td>\n",
              "      <td>My husband passed away. Chase bank put check o...</td>\n",
              "      <td>Checking account</td>\n",
              "      <td>Money was taken from your account on the wrong...</td>\n",
              "    </tr>\n",
              "    <tr>\n",
              "      <th>12854</th>\n",
              "      <td>Advertising and marketing, including promotion...</td>\n",
              "      <td>explanation</td>\n",
              "      <td>After being a Chase Card customer for well ove...</td>\n",
              "      <td>General-purpose credit card or charge card</td>\n",
              "      <td>Didn't receive advertised or promotional terms</td>\n",
              "    </tr>\n",
              "    <tr>\n",
              "      <th>12855</th>\n",
              "      <td>Other features, terms, or problems</td>\n",
              "      <td>monetary relief</td>\n",
              "      <td>On Wednesday, XX/XX/XXXX I called Chas, my XXX...</td>\n",
              "      <td>General-purpose credit card or charge card</td>\n",
              "      <td>Other problem</td>\n",
              "    </tr>\n",
              "    <tr>\n",
              "      <th>12856</th>\n",
              "      <td>Problem with a lender or other company chargin...</td>\n",
              "      <td>explanation</td>\n",
              "      <td>I am not familiar with XXXX pay and did not un...</td>\n",
              "      <td>Checking account</td>\n",
              "      <td>Transaction was not authorized</td>\n",
              "    </tr>\n",
              "    <tr>\n",
              "      <th>12857</th>\n",
              "      <td>Other features, terms, or problems</td>\n",
              "      <td>monetary relief</td>\n",
              "      <td>I have had flawless credit for 30 yrs. I've ha...</td>\n",
              "      <td>General-purpose credit card or charge card</td>\n",
              "      <td>Problem with balance transfer</td>\n",
              "    </tr>\n",
              "  </tbody>\n",
              "</table>\n",
              "<p>12858 rows × 5 columns</p>\n",
              "</div>\n",
              "      <button class=\"colab-df-convert\" onclick=\"convertToInteractive('df-666e3b19-2805-488e-9420-d7685ed9e26b')\"\n",
              "              title=\"Convert this dataframe to an interactive table.\"\n",
              "              style=\"display:none;\">\n",
              "        \n",
              "  <svg xmlns=\"http://www.w3.org/2000/svg\" height=\"24px\"viewBox=\"0 0 24 24\"\n",
              "       width=\"24px\">\n",
              "    <path d=\"M0 0h24v24H0V0z\" fill=\"none\"/>\n",
              "    <path d=\"M18.56 5.44l.94 2.06.94-2.06 2.06-.94-2.06-.94-.94-2.06-.94 2.06-2.06.94zm-11 1L8.5 8.5l.94-2.06 2.06-.94-2.06-.94L8.5 2.5l-.94 2.06-2.06.94zm10 10l.94 2.06.94-2.06 2.06-.94-2.06-.94-.94-2.06-.94 2.06-2.06.94z\"/><path d=\"M17.41 7.96l-1.37-1.37c-.4-.4-.92-.59-1.43-.59-.52 0-1.04.2-1.43.59L10.3 9.45l-7.72 7.72c-.78.78-.78 2.05 0 2.83L4 21.41c.39.39.9.59 1.41.59.51 0 1.02-.2 1.41-.59l7.78-7.78 2.81-2.81c.8-.78.8-2.07 0-2.86zM5.41 20L4 18.59l7.72-7.72 1.47 1.35L5.41 20z\"/>\n",
              "  </svg>\n",
              "      </button>\n",
              "      \n",
              "  <style>\n",
              "    .colab-df-container {\n",
              "      display:flex;\n",
              "      flex-wrap:wrap;\n",
              "      gap: 12px;\n",
              "    }\n",
              "\n",
              "    .colab-df-convert {\n",
              "      background-color: #E8F0FE;\n",
              "      border: none;\n",
              "      border-radius: 50%;\n",
              "      cursor: pointer;\n",
              "      display: none;\n",
              "      fill: #1967D2;\n",
              "      height: 32px;\n",
              "      padding: 0 0 0 0;\n",
              "      width: 32px;\n",
              "    }\n",
              "\n",
              "    .colab-df-convert:hover {\n",
              "      background-color: #E2EBFA;\n",
              "      box-shadow: 0px 1px 2px rgba(60, 64, 67, 0.3), 0px 1px 3px 1px rgba(60, 64, 67, 0.15);\n",
              "      fill: #174EA6;\n",
              "    }\n",
              "\n",
              "    [theme=dark] .colab-df-convert {\n",
              "      background-color: #3B4455;\n",
              "      fill: #D2E3FC;\n",
              "    }\n",
              "\n",
              "    [theme=dark] .colab-df-convert:hover {\n",
              "      background-color: #434B5C;\n",
              "      box-shadow: 0px 1px 3px 1px rgba(0, 0, 0, 0.15);\n",
              "      filter: drop-shadow(0px 1px 2px rgba(0, 0, 0, 0.3));\n",
              "      fill: #FFFFFF;\n",
              "    }\n",
              "  </style>\n",
              "\n",
              "      <script>\n",
              "        const buttonEl =\n",
              "          document.querySelector('#df-666e3b19-2805-488e-9420-d7685ed9e26b button.colab-df-convert');\n",
              "        buttonEl.style.display =\n",
              "          google.colab.kernel.accessAllowed ? 'block' : 'none';\n",
              "\n",
              "        async function convertToInteractive(key) {\n",
              "          const element = document.querySelector('#df-666e3b19-2805-488e-9420-d7685ed9e26b');\n",
              "          const dataTable =\n",
              "            await google.colab.kernel.invokeFunction('convertToInteractive',\n",
              "                                                     [key], {});\n",
              "          if (!dataTable) return;\n",
              "\n",
              "          const docLinkHtml = 'Like what you see? Visit the ' +\n",
              "            '<a target=\"_blank\" href=https://colab.research.google.com/notebooks/data_table.ipynb>data table notebook</a>'\n",
              "            + ' to learn more about interactive tables.';\n",
              "          element.innerHTML = '';\n",
              "          dataTable['output_type'] = 'display_data';\n",
              "          await google.colab.output.renderOutput(dataTable, element);\n",
              "          const docLink = document.createElement('div');\n",
              "          docLink.innerHTML = docLinkHtml;\n",
              "          element.appendChild(docLink);\n",
              "        }\n",
              "      </script>\n",
              "    </div>\n",
              "  </div>\n",
              "  "
            ]
          },
          "metadata": {},
          "execution_count": 8
        }
      ]
    },
    {
      "cell_type": "code",
      "source": [
        "df.nunique()"
      ],
      "metadata": {
        "id": "HZacy5EiiKug",
        "colab": {
          "base_uri": "https://localhost:8080/"
        },
        "outputId": "4f438796-d56c-46e3-e70d-d25af32c098e"
      },
      "execution_count": null,
      "outputs": [
        {
          "output_type": "execute_result",
          "data": {
            "text/plain": [
              "issue                  46\n",
              "company_response        3\n",
              "complaint           12723\n",
              "product                31\n",
              "sub_issue             178\n",
              "dtype: int64"
            ]
          },
          "metadata": {},
          "execution_count": 9
        }
      ]
    },
    {
      "cell_type": "code",
      "source": [
        "df['product'].unique()"
      ],
      "metadata": {
        "colab": {
          "base_uri": "https://localhost:8080/"
        },
        "id": "bkofGWiqEgQX",
        "outputId": "a8b20277-f015-4466-fbab-da04453789ad"
      },
      "execution_count": null,
      "outputs": [
        {
          "output_type": "execute_result",
          "data": {
            "text/plain": [
              "array(['Credit card debt', 'General-purpose credit card or charge card',\n",
              "       'Other personal consumer report', 'Credit reporting',\n",
              "       'Checking account', 'Loan', 'Savings account',\n",
              "       'Private student loan', 'I do not know', 'Lease',\n",
              "       'Store credit card', 'Other banking product or service',\n",
              "       'General-purpose prepaid card', 'Other debt',\n",
              "       'Other (i.e. phone, health club, etc.)', 'Credit card', 'Auto',\n",
              "       'Non-federal student loan', 'Private student loan debt',\n",
              "       'Mortgage debt', 'Payroll card', 'Auto debt',\n",
              "       'CD (Certificate of Deposit)', 'Government benefit card',\n",
              "       'Gift card', 'Mortgage', 'Payday loan debt', 'Payday loan',\n",
              "       'Personal line of credit', 'Federal student loan servicing',\n",
              "       'Federal student loan'], dtype=object)"
            ]
          },
          "metadata": {},
          "execution_count": 10
        }
      ]
    },
    {
      "cell_type": "code",
      "source": [
        "df.to_csv(root+'clean_data.csv')"
      ],
      "metadata": {
        "id": "Hm5wGRaPiMnu"
      },
      "execution_count": null,
      "outputs": []
    },
    {
      "cell_type": "markdown",
      "source": [
        "#Parsing"
      ],
      "metadata": {
        "id": "pBR8wu4WkDWI"
      }
    },
    {
      "cell_type": "code",
      "source": [
        "if USER == 'EYZA':\n",
        "  root = '/content/drive/MyDrive/CS372/Project/'\n",
        "else:\n",
        "  root = '/content/drive/MyDrive/Project/'\n",
        "\n",
        "with open(root + 'clean_data.csv') as f:\n",
        "  df = pd.read_csv(f)"
      ],
      "metadata": {
        "id": "v2ml7b0OT2di"
      },
      "execution_count": null,
      "outputs": []
    },
    {
      "cell_type": "code",
      "source": [
        "df.head()"
      ],
      "metadata": {
        "colab": {
          "base_uri": "https://localhost:8080/",
          "height": 206
        },
        "id": "3V4tC-boTuQZ",
        "outputId": "d843593c-9ece-40b4-a355-3ca091d0ac72"
      },
      "execution_count": null,
      "outputs": [
        {
          "output_type": "execute_result",
          "data": {
            "text/plain": [
              "   Unnamed: 0                                 issue company_response  \\\n",
              "0           0       Written notification about debt      explanation   \n",
              "1           1    Other features, terms, or problems      explanation   \n",
              "2           2  Incorrect information on your report      explanation   \n",
              "3           3  Incorrect information on your report      explanation   \n",
              "4           4                   Managing an account      explanation   \n",
              "\n",
              "                                           complaint  \\\n",
              "0  Good morning my name is XXXX XXXX and I apprec...   \n",
              "1  I upgraded my XXXX XXXX card in XX/XX/2018 and...   \n",
              "2  Chase Card was reported on XX/XX/2019. However...   \n",
              "3  On XX/XX/2018, while trying to book a XXXX  XX...   \n",
              "4  my grand son give me check for {$1600.00} i de...   \n",
              "\n",
              "                                      product  \\\n",
              "0                            Credit card debt   \n",
              "1  General-purpose credit card or charge card   \n",
              "2              Other personal consumer report   \n",
              "3                            Credit reporting   \n",
              "4                            Checking account   \n",
              "\n",
              "                                          sub_issue  \n",
              "0  Didn't receive enough information to verify debt  \n",
              "1             Problem with rewards from credit card  \n",
              "2               Information belongs to someone else  \n",
              "3               Information belongs to someone else  \n",
              "4      Funds not handled or disbursed as instructed  "
            ],
            "text/html": [
              "\n",
              "  <div id=\"df-eb7d320b-84d5-4502-bbbc-60cabf718bfe\">\n",
              "    <div class=\"colab-df-container\">\n",
              "      <div>\n",
              "<style scoped>\n",
              "    .dataframe tbody tr th:only-of-type {\n",
              "        vertical-align: middle;\n",
              "    }\n",
              "\n",
              "    .dataframe tbody tr th {\n",
              "        vertical-align: top;\n",
              "    }\n",
              "\n",
              "    .dataframe thead th {\n",
              "        text-align: right;\n",
              "    }\n",
              "</style>\n",
              "<table border=\"1\" class=\"dataframe\">\n",
              "  <thead>\n",
              "    <tr style=\"text-align: right;\">\n",
              "      <th></th>\n",
              "      <th>Unnamed: 0</th>\n",
              "      <th>issue</th>\n",
              "      <th>company_response</th>\n",
              "      <th>complaint</th>\n",
              "      <th>product</th>\n",
              "      <th>sub_issue</th>\n",
              "    </tr>\n",
              "  </thead>\n",
              "  <tbody>\n",
              "    <tr>\n",
              "      <th>0</th>\n",
              "      <td>0</td>\n",
              "      <td>Written notification about debt</td>\n",
              "      <td>explanation</td>\n",
              "      <td>Good morning my name is XXXX XXXX and I apprec...</td>\n",
              "      <td>Credit card debt</td>\n",
              "      <td>Didn't receive enough information to verify debt</td>\n",
              "    </tr>\n",
              "    <tr>\n",
              "      <th>1</th>\n",
              "      <td>1</td>\n",
              "      <td>Other features, terms, or problems</td>\n",
              "      <td>explanation</td>\n",
              "      <td>I upgraded my XXXX XXXX card in XX/XX/2018 and...</td>\n",
              "      <td>General-purpose credit card or charge card</td>\n",
              "      <td>Problem with rewards from credit card</td>\n",
              "    </tr>\n",
              "    <tr>\n",
              "      <th>2</th>\n",
              "      <td>2</td>\n",
              "      <td>Incorrect information on your report</td>\n",
              "      <td>explanation</td>\n",
              "      <td>Chase Card was reported on XX/XX/2019. However...</td>\n",
              "      <td>Other personal consumer report</td>\n",
              "      <td>Information belongs to someone else</td>\n",
              "    </tr>\n",
              "    <tr>\n",
              "      <th>3</th>\n",
              "      <td>3</td>\n",
              "      <td>Incorrect information on your report</td>\n",
              "      <td>explanation</td>\n",
              "      <td>On XX/XX/2018, while trying to book a XXXX  XX...</td>\n",
              "      <td>Credit reporting</td>\n",
              "      <td>Information belongs to someone else</td>\n",
              "    </tr>\n",
              "    <tr>\n",
              "      <th>4</th>\n",
              "      <td>4</td>\n",
              "      <td>Managing an account</td>\n",
              "      <td>explanation</td>\n",
              "      <td>my grand son give me check for {$1600.00} i de...</td>\n",
              "      <td>Checking account</td>\n",
              "      <td>Funds not handled or disbursed as instructed</td>\n",
              "    </tr>\n",
              "  </tbody>\n",
              "</table>\n",
              "</div>\n",
              "      <button class=\"colab-df-convert\" onclick=\"convertToInteractive('df-eb7d320b-84d5-4502-bbbc-60cabf718bfe')\"\n",
              "              title=\"Convert this dataframe to an interactive table.\"\n",
              "              style=\"display:none;\">\n",
              "        \n",
              "  <svg xmlns=\"http://www.w3.org/2000/svg\" height=\"24px\"viewBox=\"0 0 24 24\"\n",
              "       width=\"24px\">\n",
              "    <path d=\"M0 0h24v24H0V0z\" fill=\"none\"/>\n",
              "    <path d=\"M18.56 5.44l.94 2.06.94-2.06 2.06-.94-2.06-.94-.94-2.06-.94 2.06-2.06.94zm-11 1L8.5 8.5l.94-2.06 2.06-.94-2.06-.94L8.5 2.5l-.94 2.06-2.06.94zm10 10l.94 2.06.94-2.06 2.06-.94-2.06-.94-.94-2.06-.94 2.06-2.06.94z\"/><path d=\"M17.41 7.96l-1.37-1.37c-.4-.4-.92-.59-1.43-.59-.52 0-1.04.2-1.43.59L10.3 9.45l-7.72 7.72c-.78.78-.78 2.05 0 2.83L4 21.41c.39.39.9.59 1.41.59.51 0 1.02-.2 1.41-.59l7.78-7.78 2.81-2.81c.8-.78.8-2.07 0-2.86zM5.41 20L4 18.59l7.72-7.72 1.47 1.35L5.41 20z\"/>\n",
              "  </svg>\n",
              "      </button>\n",
              "      \n",
              "  <style>\n",
              "    .colab-df-container {\n",
              "      display:flex;\n",
              "      flex-wrap:wrap;\n",
              "      gap: 12px;\n",
              "    }\n",
              "\n",
              "    .colab-df-convert {\n",
              "      background-color: #E8F0FE;\n",
              "      border: none;\n",
              "      border-radius: 50%;\n",
              "      cursor: pointer;\n",
              "      display: none;\n",
              "      fill: #1967D2;\n",
              "      height: 32px;\n",
              "      padding: 0 0 0 0;\n",
              "      width: 32px;\n",
              "    }\n",
              "\n",
              "    .colab-df-convert:hover {\n",
              "      background-color: #E2EBFA;\n",
              "      box-shadow: 0px 1px 2px rgba(60, 64, 67, 0.3), 0px 1px 3px 1px rgba(60, 64, 67, 0.15);\n",
              "      fill: #174EA6;\n",
              "    }\n",
              "\n",
              "    [theme=dark] .colab-df-convert {\n",
              "      background-color: #3B4455;\n",
              "      fill: #D2E3FC;\n",
              "    }\n",
              "\n",
              "    [theme=dark] .colab-df-convert:hover {\n",
              "      background-color: #434B5C;\n",
              "      box-shadow: 0px 1px 3px 1px rgba(0, 0, 0, 0.15);\n",
              "      filter: drop-shadow(0px 1px 2px rgba(0, 0, 0, 0.3));\n",
              "      fill: #FFFFFF;\n",
              "    }\n",
              "  </style>\n",
              "\n",
              "      <script>\n",
              "        const buttonEl =\n",
              "          document.querySelector('#df-eb7d320b-84d5-4502-bbbc-60cabf718bfe button.colab-df-convert');\n",
              "        buttonEl.style.display =\n",
              "          google.colab.kernel.accessAllowed ? 'block' : 'none';\n",
              "\n",
              "        async function convertToInteractive(key) {\n",
              "          const element = document.querySelector('#df-eb7d320b-84d5-4502-bbbc-60cabf718bfe');\n",
              "          const dataTable =\n",
              "            await google.colab.kernel.invokeFunction('convertToInteractive',\n",
              "                                                     [key], {});\n",
              "          if (!dataTable) return;\n",
              "\n",
              "          const docLinkHtml = 'Like what you see? Visit the ' +\n",
              "            '<a target=\"_blank\" href=https://colab.research.google.com/notebooks/data_table.ipynb>data table notebook</a>'\n",
              "            + ' to learn more about interactive tables.';\n",
              "          element.innerHTML = '';\n",
              "          dataTable['output_type'] = 'display_data';\n",
              "          await google.colab.output.renderOutput(dataTable, element);\n",
              "          const docLink = document.createElement('div');\n",
              "          docLink.innerHTML = docLinkHtml;\n",
              "          element.appendChild(docLink);\n",
              "        }\n",
              "      </script>\n",
              "    </div>\n",
              "  </div>\n",
              "  "
            ]
          },
          "metadata": {},
          "execution_count": 13
        }
      ]
    },
    {
      "cell_type": "code",
      "source": [
        "!pip install bllipparser"
      ],
      "metadata": {
        "id": "IMsRlZJ_kBOg",
        "colab": {
          "base_uri": "https://localhost:8080/"
        },
        "outputId": "eeebb043-ad42-4296-c7be-789b741f8f8d"
      },
      "execution_count": null,
      "outputs": [
        {
          "output_type": "stream",
          "name": "stdout",
          "text": [
            "Looking in indexes: https://pypi.org/simple, https://us-python.pkg.dev/colab-wheels/public/simple/\n",
            "Collecting bllipparser\n",
            "  Downloading bllipparser-2021.11.7.tar.gz (554 kB)\n",
            "\u001b[2K     \u001b[90m━━━━━━━━━━━━━━━━━━━━━━━━━━━━━━━━━━━━━━━\u001b[0m \u001b[32m554.1/554.1 kB\u001b[0m \u001b[31m9.5 MB/s\u001b[0m eta \u001b[36m0:00:00\u001b[0m\n",
            "\u001b[?25h  Preparing metadata (setup.py) ... \u001b[?25l\u001b[?25hdone\n",
            "Requirement already satisfied: six in /usr/local/lib/python3.10/dist-packages (from bllipparser) (1.16.0)\n",
            "Building wheels for collected packages: bllipparser\n",
            "  Building wheel for bllipparser (setup.py) ... \u001b[?25l\u001b[?25hdone\n",
            "  Created wheel for bllipparser: filename=bllipparser-2021.11.7-cp310-cp310-linux_x86_64.whl size=8475656 sha256=696fefa3c75e149a7649e7c776e19f0469e2b9c437bb837d6f22ee3d74883a50\n",
            "  Stored in directory: /root/.cache/pip/wheels/51/44/ac/c1bf9ca5f2c5dec6a44220ddb1aa712d127c0d4de5247a1eec\n",
            "Successfully built bllipparser\n",
            "Installing collected packages: bllipparser\n",
            "Successfully installed bllipparser-2021.11.7\n"
          ]
        }
      ]
    },
    {
      "cell_type": "code",
      "source": [
        "import bllipparser\n",
        "from bllipparser import RerankingParser\n",
        "# un-comment the code when running for the first time\n",
        "rrp = RerankingParser.fetch_and_load('WSJ-PTB3', verbose=True)\n",
        "rrp.simple_parse(\"It's that easy.\")"
      ],
      "metadata": {
        "id": "vVbGLOx2k22W",
        "colab": {
          "base_uri": "https://localhost:8080/",
          "height": 122
        },
        "outputId": "7d74aabb-4ae6-4efe-d2a0-097db5aa5747"
      },
      "execution_count": null,
      "outputs": [
        {
          "output_type": "stream",
          "name": "stdout",
          "text": [
            "Model directory: /root/.local/share/bllipparser/WSJ-PTB3\n",
            "Fetching model: WSJ-PTB3 from https://www.dropbox.com/s/ulcfs7my1ifriuu/BLLIP-WSJ-PTB3.tar.bz2?dl=1\n",
            "Download complete                    \n",
            "Downloaded to temporary file /tmp/tmpedwa0qzy.bz2\n",
            "Extracting with 'tar xvjf /tmp/tmpedwa0qzy.bz2' to /root/.local/share/bllipparser/WSJ-PTB3\n"
          ]
        },
        {
          "output_type": "execute_result",
          "data": {
            "text/plain": [
              "\"(S1 (S (NP (PRP It)) (VP (VBZ 's) (ADJP (RB that) (JJ easy))) (. .)))\""
            ],
            "application/vnd.google.colaboratory.intrinsic+json": {
              "type": "string"
            }
          },
          "metadata": {},
          "execution_count": 15
        }
      ]
    },
    {
      "cell_type": "code",
      "source": [
        "import pprint, nltk, re\n",
        "from nltk.tokenize import sent_tokenize, word_tokenize\n",
        "\n",
        "nltk.download('punkt')"
      ],
      "metadata": {
        "colab": {
          "base_uri": "https://localhost:8080/"
        },
        "id": "wqnciukETRHH",
        "outputId": "e2c7075f-9c09-4bc4-c0a5-a0a196cddefb"
      },
      "execution_count": null,
      "outputs": [
        {
          "output_type": "stream",
          "name": "stderr",
          "text": [
            "[nltk_data] Downloading package punkt to /root/nltk_data...\n",
            "[nltk_data]   Unzipping tokenizers/punkt.zip.\n"
          ]
        },
        {
          "output_type": "execute_result",
          "data": {
            "text/plain": [
              "True"
            ]
          },
          "metadata": {},
          "execution_count": 16
        }
      ]
    },
    {
      "cell_type": "code",
      "source": [
        "def parse_complaint(text):\n",
        "  sents = sent_tokenize(text)\n",
        "\n",
        "  res = []\n",
        "  for sent in sents:\n",
        "    parse = rrp.simple_parse(sent)\n",
        "    tree = bllipparser.Tree(parse)\n",
        "    subtree_labels = [subtree.label for subtree in tree[0].subtrees()]\n",
        "\n",
        "    parsed = []\n",
        "    if 'S' in subtree_labels:\n",
        "      parsed += [' '.join(subtree.tokens()) for subtree in tree[0].subtrees() if subtree.label == 'S']\n",
        "      res.append('. '.join(parsed))\n",
        "    else:\n",
        "      res.append(sent)\n",
        "\n",
        "    # print(res)\n",
        "  parsed_text = '. '.join(res)\n",
        "  return parsed_text"
      ],
      "metadata": {
        "id": "IgP8AeX7ROK5"
      },
      "execution_count": null,
      "outputs": []
    },
    {
      "cell_type": "code",
      "source": [
        "df['complaint'][0]"
      ],
      "metadata": {
        "colab": {
          "base_uri": "https://localhost:8080/",
          "height": 70
        },
        "id": "ZH_Z8UhhTmmH",
        "outputId": "9107d8e4-3fdc-4f81-8aef-1c9d2a30876c"
      },
      "execution_count": null,
      "outputs": [
        {
          "output_type": "execute_result",
          "data": {
            "text/plain": [
              "'Good morning my name is XXXX XXXX and I appreciate it if you could help me put a stop to Chase Bank cardmember services. \\nIn 2018 I wrote to Chase asking for debt verification and what they sent me a statement which is not acceptable. I am asking the bank to validate the debt. Instead I been receiving mail every month from them attempting to collect a debt. \\nI have a right to know this information as a consumer. \\n\\nChase account # XXXX XXXX XXXX XXXX Thanks in advance for your help.'"
            ],
            "application/vnd.google.colaboratory.intrinsic+json": {
              "type": "string"
            }
          },
          "metadata": {},
          "execution_count": 18
        }
      ]
    },
    {
      "cell_type": "code",
      "source": [
        "for i in range(5):\n",
        "  pprint.pprint(parse_complaint(df['complaint'][i]), compact = True)"
      ],
      "metadata": {
        "colab": {
          "base_uri": "https://localhost:8080/"
        },
        "id": "f4XHgv_XRSKS",
        "outputId": "97ba1d21-bd4a-468a-bc78-808edb82a6ad"
      },
      "execution_count": null,
      "outputs": [
        {
          "output_type": "stream",
          "name": "stdout",
          "text": [
            "('Good morning my name is XXXX XXXX. I appreciate it if you could help me put '\n",
            " 'a stop to Chase Bank cardmember services. In 2018 I wrote to Chase asking '\n",
            " 'for debt verification and what they sent me a statement which is not '\n",
            " 'acceptable.. I am asking the bank to validate the debt.. Instead I been '\n",
            " 'receiving mail every month from them attempting to collect a debt.. I have a '\n",
            " 'right to know this information as a consumer.. Chase account # XXXX XXXX '\n",
            " 'XXXX XXXX Thanks in advance for your help.')\n",
            "('I upgraded my XXXX XXXX card in XX/XX/2018 and was told by the agent who did '\n",
            " 'the upgrade my anniversary date would not change.. It turned the agent was '\n",
            " 'giving me the wrong information in order to upgrade the account.. XXXX   '\n",
            " 'changed my anniversary date from XX/XX/XXXX to XX/XX/XXXX without my '\n",
            " 'consent!. XXXX has the recording of the agent who was misled me.')\n",
            "('Chase Card was reported on XX/XX/2019.. However, fraudulent application have '\n",
            " 'been submitted my identity without my consent to fraudulently obtain '\n",
            " 'services.. Do not extend credit without verifying the identity of the '\n",
            " 'applicant.')\n",
            "('On XX/XX/2018, while trying to book a XXXX  XXXX  ticket, I came across an '\n",
            " 'offer for {$300.00} to be applied towards the ticket if I applied for a '\n",
            " 'rewards card.. I put in my information for the offer and within less than a '\n",
            " 'minute, was notified via the screen that a decision could not be made.. I '\n",
            " 'immediately contacted XXXX and was referred to Chase Bank.. I then '\n",
            " 'immediately contacted Chase bank within no more than 10minutes of getting '\n",
            " 'the notification on the screen. I was told by the Chase representative I '\n",
            " 'spoke with that my application was denied but she could not state why. I '\n",
            " 'asked for more information about the XXXX offer. she explained that even if '\n",
            " 'I had been approved , the credit offer only gets applied after the first '\n",
            " 'account statement and could not be used to purchase the ticket. I then '\n",
            " 'explicitly told her I was glad I got denied and I was ABSOLUTELY no longer '\n",
            " 'interested in the account.. I asked that the application be withdrawn. the '\n",
            " 'representative obliged. This all happened no later than 10mins after putting '\n",
            " 'in the application on XX/XX/2018.. Notwithstanding my explicit request not '\n",
            " 'to proceed with the application and contrary to what I was told by the Chase '\n",
            " 'representative, Chase did in fact go ahead to open a credit account in my '\n",
            " 'name on XX/XX/2018.. This is now being reported in my Credit Report and '\n",
            " 'Chase has refused to correct this information on my credit report even '\n",
            " 'though they went ahead to process an application which I did not consent to '\n",
            " 'and out of their error.')\n",
            "('my grand son give me check for {$1600.00} i deposit it into my chase account '\n",
            " 'after fund clear my chase bank closed my account never paid me my money they '\n",
            " 'said they need to speek with my grand son check was clear money was taking '\n",
            " 'by my chase bank refuse to pay me my money my grand son called chase 2 times '\n",
            " 'they told him i should call not him to verify the check owner he is out the '\n",
            " 'country most the time  date happen XX/XX/2018 check number XXXX claim number '\n",
            " 'is XXXX with chase')\n"
          ]
        }
      ]
    },
    {
      "cell_type": "code",
      "source": [
        "!pip install tqdm"
      ],
      "metadata": {
        "colab": {
          "base_uri": "https://localhost:8080/"
        },
        "id": "Z--iplzgXt4l",
        "outputId": "91bf9637-20d6-434e-a8ec-bb46267787e9"
      },
      "execution_count": null,
      "outputs": [
        {
          "output_type": "stream",
          "name": "stdout",
          "text": [
            "Looking in indexes: https://pypi.org/simple, https://us-python.pkg.dev/colab-wheels/public/simple/\n",
            "Requirement already satisfied: tqdm in /usr/local/lib/python3.10/dist-packages (4.65.0)\n"
          ]
        }
      ]
    },
    {
      "cell_type": "code",
      "source": [
        "from tqdm import tqdm"
      ],
      "metadata": {
        "id": "cc1x7xTFZAWi"
      },
      "execution_count": null,
      "outputs": []
    },
    {
      "cell_type": "code",
      "source": [
        "df.head()"
      ],
      "metadata": {
        "colab": {
          "base_uri": "https://localhost:8080/",
          "height": 206
        },
        "id": "uRCf1yJcYsHn",
        "outputId": "d2b79226-c503-42f8-b91b-f6ac476a705d"
      },
      "execution_count": null,
      "outputs": [
        {
          "output_type": "execute_result",
          "data": {
            "text/plain": [
              "   Unnamed: 0                                 issue company_response  \\\n",
              "0           0       Written notification about debt      explanation   \n",
              "1           1    Other features, terms, or problems      explanation   \n",
              "2           2  Incorrect information on your report      explanation   \n",
              "3           3  Incorrect information on your report      explanation   \n",
              "4           4                   Managing an account      explanation   \n",
              "\n",
              "                                           complaint  \\\n",
              "0  Good morning my name is XXXX XXXX and I apprec...   \n",
              "1  I upgraded my XXXX XXXX card in XX/XX/2018 and...   \n",
              "2  Chase Card was reported on XX/XX/2019. However...   \n",
              "3  On XX/XX/2018, while trying to book a XXXX  XX...   \n",
              "4  my grand son give me check for {$1600.00} i de...   \n",
              "\n",
              "                                      product  \\\n",
              "0                            Credit card debt   \n",
              "1  General-purpose credit card or charge card   \n",
              "2              Other personal consumer report   \n",
              "3                            Credit reporting   \n",
              "4                            Checking account   \n",
              "\n",
              "                                          sub_issue  \n",
              "0  Didn't receive enough information to verify debt  \n",
              "1             Problem with rewards from credit card  \n",
              "2               Information belongs to someone else  \n",
              "3               Information belongs to someone else  \n",
              "4      Funds not handled or disbursed as instructed  "
            ],
            "text/html": [
              "\n",
              "  <div id=\"df-d04c4aa5-ee9a-46ac-af00-72710b6e6941\">\n",
              "    <div class=\"colab-df-container\">\n",
              "      <div>\n",
              "<style scoped>\n",
              "    .dataframe tbody tr th:only-of-type {\n",
              "        vertical-align: middle;\n",
              "    }\n",
              "\n",
              "    .dataframe tbody tr th {\n",
              "        vertical-align: top;\n",
              "    }\n",
              "\n",
              "    .dataframe thead th {\n",
              "        text-align: right;\n",
              "    }\n",
              "</style>\n",
              "<table border=\"1\" class=\"dataframe\">\n",
              "  <thead>\n",
              "    <tr style=\"text-align: right;\">\n",
              "      <th></th>\n",
              "      <th>Unnamed: 0</th>\n",
              "      <th>issue</th>\n",
              "      <th>company_response</th>\n",
              "      <th>complaint</th>\n",
              "      <th>product</th>\n",
              "      <th>sub_issue</th>\n",
              "    </tr>\n",
              "  </thead>\n",
              "  <tbody>\n",
              "    <tr>\n",
              "      <th>0</th>\n",
              "      <td>0</td>\n",
              "      <td>Written notification about debt</td>\n",
              "      <td>explanation</td>\n",
              "      <td>Good morning my name is XXXX XXXX and I apprec...</td>\n",
              "      <td>Credit card debt</td>\n",
              "      <td>Didn't receive enough information to verify debt</td>\n",
              "    </tr>\n",
              "    <tr>\n",
              "      <th>1</th>\n",
              "      <td>1</td>\n",
              "      <td>Other features, terms, or problems</td>\n",
              "      <td>explanation</td>\n",
              "      <td>I upgraded my XXXX XXXX card in XX/XX/2018 and...</td>\n",
              "      <td>General-purpose credit card or charge card</td>\n",
              "      <td>Problem with rewards from credit card</td>\n",
              "    </tr>\n",
              "    <tr>\n",
              "      <th>2</th>\n",
              "      <td>2</td>\n",
              "      <td>Incorrect information on your report</td>\n",
              "      <td>explanation</td>\n",
              "      <td>Chase Card was reported on XX/XX/2019. However...</td>\n",
              "      <td>Other personal consumer report</td>\n",
              "      <td>Information belongs to someone else</td>\n",
              "    </tr>\n",
              "    <tr>\n",
              "      <th>3</th>\n",
              "      <td>3</td>\n",
              "      <td>Incorrect information on your report</td>\n",
              "      <td>explanation</td>\n",
              "      <td>On XX/XX/2018, while trying to book a XXXX  XX...</td>\n",
              "      <td>Credit reporting</td>\n",
              "      <td>Information belongs to someone else</td>\n",
              "    </tr>\n",
              "    <tr>\n",
              "      <th>4</th>\n",
              "      <td>4</td>\n",
              "      <td>Managing an account</td>\n",
              "      <td>explanation</td>\n",
              "      <td>my grand son give me check for {$1600.00} i de...</td>\n",
              "      <td>Checking account</td>\n",
              "      <td>Funds not handled or disbursed as instructed</td>\n",
              "    </tr>\n",
              "  </tbody>\n",
              "</table>\n",
              "</div>\n",
              "      <button class=\"colab-df-convert\" onclick=\"convertToInteractive('df-d04c4aa5-ee9a-46ac-af00-72710b6e6941')\"\n",
              "              title=\"Convert this dataframe to an interactive table.\"\n",
              "              style=\"display:none;\">\n",
              "        \n",
              "  <svg xmlns=\"http://www.w3.org/2000/svg\" height=\"24px\"viewBox=\"0 0 24 24\"\n",
              "       width=\"24px\">\n",
              "    <path d=\"M0 0h24v24H0V0z\" fill=\"none\"/>\n",
              "    <path d=\"M18.56 5.44l.94 2.06.94-2.06 2.06-.94-2.06-.94-.94-2.06-.94 2.06-2.06.94zm-11 1L8.5 8.5l.94-2.06 2.06-.94-2.06-.94L8.5 2.5l-.94 2.06-2.06.94zm10 10l.94 2.06.94-2.06 2.06-.94-2.06-.94-.94-2.06-.94 2.06-2.06.94z\"/><path d=\"M17.41 7.96l-1.37-1.37c-.4-.4-.92-.59-1.43-.59-.52 0-1.04.2-1.43.59L10.3 9.45l-7.72 7.72c-.78.78-.78 2.05 0 2.83L4 21.41c.39.39.9.59 1.41.59.51 0 1.02-.2 1.41-.59l7.78-7.78 2.81-2.81c.8-.78.8-2.07 0-2.86zM5.41 20L4 18.59l7.72-7.72 1.47 1.35L5.41 20z\"/>\n",
              "  </svg>\n",
              "      </button>\n",
              "      \n",
              "  <style>\n",
              "    .colab-df-container {\n",
              "      display:flex;\n",
              "      flex-wrap:wrap;\n",
              "      gap: 12px;\n",
              "    }\n",
              "\n",
              "    .colab-df-convert {\n",
              "      background-color: #E8F0FE;\n",
              "      border: none;\n",
              "      border-radius: 50%;\n",
              "      cursor: pointer;\n",
              "      display: none;\n",
              "      fill: #1967D2;\n",
              "      height: 32px;\n",
              "      padding: 0 0 0 0;\n",
              "      width: 32px;\n",
              "    }\n",
              "\n",
              "    .colab-df-convert:hover {\n",
              "      background-color: #E2EBFA;\n",
              "      box-shadow: 0px 1px 2px rgba(60, 64, 67, 0.3), 0px 1px 3px 1px rgba(60, 64, 67, 0.15);\n",
              "      fill: #174EA6;\n",
              "    }\n",
              "\n",
              "    [theme=dark] .colab-df-convert {\n",
              "      background-color: #3B4455;\n",
              "      fill: #D2E3FC;\n",
              "    }\n",
              "\n",
              "    [theme=dark] .colab-df-convert:hover {\n",
              "      background-color: #434B5C;\n",
              "      box-shadow: 0px 1px 3px 1px rgba(0, 0, 0, 0.15);\n",
              "      filter: drop-shadow(0px 1px 2px rgba(0, 0, 0, 0.3));\n",
              "      fill: #FFFFFF;\n",
              "    }\n",
              "  </style>\n",
              "\n",
              "      <script>\n",
              "        const buttonEl =\n",
              "          document.querySelector('#df-d04c4aa5-ee9a-46ac-af00-72710b6e6941 button.colab-df-convert');\n",
              "        buttonEl.style.display =\n",
              "          google.colab.kernel.accessAllowed ? 'block' : 'none';\n",
              "\n",
              "        async function convertToInteractive(key) {\n",
              "          const element = document.querySelector('#df-d04c4aa5-ee9a-46ac-af00-72710b6e6941');\n",
              "          const dataTable =\n",
              "            await google.colab.kernel.invokeFunction('convertToInteractive',\n",
              "                                                     [key], {});\n",
              "          if (!dataTable) return;\n",
              "\n",
              "          const docLinkHtml = 'Like what you see? Visit the ' +\n",
              "            '<a target=\"_blank\" href=https://colab.research.google.com/notebooks/data_table.ipynb>data table notebook</a>'\n",
              "            + ' to learn more about interactive tables.';\n",
              "          element.innerHTML = '';\n",
              "          dataTable['output_type'] = 'display_data';\n",
              "          await google.colab.output.renderOutput(dataTable, element);\n",
              "          const docLink = document.createElement('div');\n",
              "          docLink.innerHTML = docLinkHtml;\n",
              "          element.appendChild(docLink);\n",
              "        }\n",
              "      </script>\n",
              "    </div>\n",
              "  </div>\n",
              "  "
            ]
          },
          "metadata": {},
          "execution_count": 22
        }
      ]
    },
    {
      "cell_type": "code",
      "source": [
        "# result = list()\n",
        "\n",
        "# for step, complaint in tqdm(enumerate(df['complaint']), total = df.shape[0]):\n",
        "#   parsed = parse_complaint(complaint)\n",
        "#   result.append(parsed)\n",
        "\n",
        "# df['parsed'] = result"
      ],
      "metadata": {
        "id": "Td93BDiLe-vb"
      },
      "execution_count": null,
      "outputs": []
    },
    {
      "cell_type": "code",
      "source": [
        "df.head()"
      ],
      "metadata": {
        "colab": {
          "base_uri": "https://localhost:8080/",
          "height": 206
        },
        "id": "NF5dV9EFWSwI",
        "outputId": "d01ff541-7c02-4722-bafe-c801ad4859b9"
      },
      "execution_count": null,
      "outputs": [
        {
          "output_type": "execute_result",
          "data": {
            "text/plain": [
              "   Unnamed: 0                                 issue company_response  \\\n",
              "0           0       Written notification about debt      explanation   \n",
              "1           1    Other features, terms, or problems      explanation   \n",
              "2           2  Incorrect information on your report      explanation   \n",
              "3           3  Incorrect information on your report      explanation   \n",
              "4           4                   Managing an account      explanation   \n",
              "\n",
              "                                           complaint  \\\n",
              "0  Good morning my name is XXXX XXXX and I apprec...   \n",
              "1  I upgraded my XXXX XXXX card in XX/XX/2018 and...   \n",
              "2  Chase Card was reported on XX/XX/2019. However...   \n",
              "3  On XX/XX/2018, while trying to book a XXXX  XX...   \n",
              "4  my grand son give me check for {$1600.00} i de...   \n",
              "\n",
              "                                      product  \\\n",
              "0                            Credit card debt   \n",
              "1  General-purpose credit card or charge card   \n",
              "2              Other personal consumer report   \n",
              "3                            Credit reporting   \n",
              "4                            Checking account   \n",
              "\n",
              "                                          sub_issue  \n",
              "0  Didn't receive enough information to verify debt  \n",
              "1             Problem with rewards from credit card  \n",
              "2               Information belongs to someone else  \n",
              "3               Information belongs to someone else  \n",
              "4      Funds not handled or disbursed as instructed  "
            ],
            "text/html": [
              "\n",
              "  <div id=\"df-125bc9e3-f640-4088-b190-d1a72b9a74dd\">\n",
              "    <div class=\"colab-df-container\">\n",
              "      <div>\n",
              "<style scoped>\n",
              "    .dataframe tbody tr th:only-of-type {\n",
              "        vertical-align: middle;\n",
              "    }\n",
              "\n",
              "    .dataframe tbody tr th {\n",
              "        vertical-align: top;\n",
              "    }\n",
              "\n",
              "    .dataframe thead th {\n",
              "        text-align: right;\n",
              "    }\n",
              "</style>\n",
              "<table border=\"1\" class=\"dataframe\">\n",
              "  <thead>\n",
              "    <tr style=\"text-align: right;\">\n",
              "      <th></th>\n",
              "      <th>Unnamed: 0</th>\n",
              "      <th>issue</th>\n",
              "      <th>company_response</th>\n",
              "      <th>complaint</th>\n",
              "      <th>product</th>\n",
              "      <th>sub_issue</th>\n",
              "    </tr>\n",
              "  </thead>\n",
              "  <tbody>\n",
              "    <tr>\n",
              "      <th>0</th>\n",
              "      <td>0</td>\n",
              "      <td>Written notification about debt</td>\n",
              "      <td>explanation</td>\n",
              "      <td>Good morning my name is XXXX XXXX and I apprec...</td>\n",
              "      <td>Credit card debt</td>\n",
              "      <td>Didn't receive enough information to verify debt</td>\n",
              "    </tr>\n",
              "    <tr>\n",
              "      <th>1</th>\n",
              "      <td>1</td>\n",
              "      <td>Other features, terms, or problems</td>\n",
              "      <td>explanation</td>\n",
              "      <td>I upgraded my XXXX XXXX card in XX/XX/2018 and...</td>\n",
              "      <td>General-purpose credit card or charge card</td>\n",
              "      <td>Problem with rewards from credit card</td>\n",
              "    </tr>\n",
              "    <tr>\n",
              "      <th>2</th>\n",
              "      <td>2</td>\n",
              "      <td>Incorrect information on your report</td>\n",
              "      <td>explanation</td>\n",
              "      <td>Chase Card was reported on XX/XX/2019. However...</td>\n",
              "      <td>Other personal consumer report</td>\n",
              "      <td>Information belongs to someone else</td>\n",
              "    </tr>\n",
              "    <tr>\n",
              "      <th>3</th>\n",
              "      <td>3</td>\n",
              "      <td>Incorrect information on your report</td>\n",
              "      <td>explanation</td>\n",
              "      <td>On XX/XX/2018, while trying to book a XXXX  XX...</td>\n",
              "      <td>Credit reporting</td>\n",
              "      <td>Information belongs to someone else</td>\n",
              "    </tr>\n",
              "    <tr>\n",
              "      <th>4</th>\n",
              "      <td>4</td>\n",
              "      <td>Managing an account</td>\n",
              "      <td>explanation</td>\n",
              "      <td>my grand son give me check for {$1600.00} i de...</td>\n",
              "      <td>Checking account</td>\n",
              "      <td>Funds not handled or disbursed as instructed</td>\n",
              "    </tr>\n",
              "  </tbody>\n",
              "</table>\n",
              "</div>\n",
              "      <button class=\"colab-df-convert\" onclick=\"convertToInteractive('df-125bc9e3-f640-4088-b190-d1a72b9a74dd')\"\n",
              "              title=\"Convert this dataframe to an interactive table.\"\n",
              "              style=\"display:none;\">\n",
              "        \n",
              "  <svg xmlns=\"http://www.w3.org/2000/svg\" height=\"24px\"viewBox=\"0 0 24 24\"\n",
              "       width=\"24px\">\n",
              "    <path d=\"M0 0h24v24H0V0z\" fill=\"none\"/>\n",
              "    <path d=\"M18.56 5.44l.94 2.06.94-2.06 2.06-.94-2.06-.94-.94-2.06-.94 2.06-2.06.94zm-11 1L8.5 8.5l.94-2.06 2.06-.94-2.06-.94L8.5 2.5l-.94 2.06-2.06.94zm10 10l.94 2.06.94-2.06 2.06-.94-2.06-.94-.94-2.06-.94 2.06-2.06.94z\"/><path d=\"M17.41 7.96l-1.37-1.37c-.4-.4-.92-.59-1.43-.59-.52 0-1.04.2-1.43.59L10.3 9.45l-7.72 7.72c-.78.78-.78 2.05 0 2.83L4 21.41c.39.39.9.59 1.41.59.51 0 1.02-.2 1.41-.59l7.78-7.78 2.81-2.81c.8-.78.8-2.07 0-2.86zM5.41 20L4 18.59l7.72-7.72 1.47 1.35L5.41 20z\"/>\n",
              "  </svg>\n",
              "      </button>\n",
              "      \n",
              "  <style>\n",
              "    .colab-df-container {\n",
              "      display:flex;\n",
              "      flex-wrap:wrap;\n",
              "      gap: 12px;\n",
              "    }\n",
              "\n",
              "    .colab-df-convert {\n",
              "      background-color: #E8F0FE;\n",
              "      border: none;\n",
              "      border-radius: 50%;\n",
              "      cursor: pointer;\n",
              "      display: none;\n",
              "      fill: #1967D2;\n",
              "      height: 32px;\n",
              "      padding: 0 0 0 0;\n",
              "      width: 32px;\n",
              "    }\n",
              "\n",
              "    .colab-df-convert:hover {\n",
              "      background-color: #E2EBFA;\n",
              "      box-shadow: 0px 1px 2px rgba(60, 64, 67, 0.3), 0px 1px 3px 1px rgba(60, 64, 67, 0.15);\n",
              "      fill: #174EA6;\n",
              "    }\n",
              "\n",
              "    [theme=dark] .colab-df-convert {\n",
              "      background-color: #3B4455;\n",
              "      fill: #D2E3FC;\n",
              "    }\n",
              "\n",
              "    [theme=dark] .colab-df-convert:hover {\n",
              "      background-color: #434B5C;\n",
              "      box-shadow: 0px 1px 3px 1px rgba(0, 0, 0, 0.15);\n",
              "      filter: drop-shadow(0px 1px 2px rgba(0, 0, 0, 0.3));\n",
              "      fill: #FFFFFF;\n",
              "    }\n",
              "  </style>\n",
              "\n",
              "      <script>\n",
              "        const buttonEl =\n",
              "          document.querySelector('#df-125bc9e3-f640-4088-b190-d1a72b9a74dd button.colab-df-convert');\n",
              "        buttonEl.style.display =\n",
              "          google.colab.kernel.accessAllowed ? 'block' : 'none';\n",
              "\n",
              "        async function convertToInteractive(key) {\n",
              "          const element = document.querySelector('#df-125bc9e3-f640-4088-b190-d1a72b9a74dd');\n",
              "          const dataTable =\n",
              "            await google.colab.kernel.invokeFunction('convertToInteractive',\n",
              "                                                     [key], {});\n",
              "          if (!dataTable) return;\n",
              "\n",
              "          const docLinkHtml = 'Like what you see? Visit the ' +\n",
              "            '<a target=\"_blank\" href=https://colab.research.google.com/notebooks/data_table.ipynb>data table notebook</a>'\n",
              "            + ' to learn more about interactive tables.';\n",
              "          element.innerHTML = '';\n",
              "          dataTable['output_type'] = 'display_data';\n",
              "          await google.colab.output.renderOutput(dataTable, element);\n",
              "          const docLink = document.createElement('div');\n",
              "          docLink.innerHTML = docLinkHtml;\n",
              "          element.appendChild(docLink);\n",
              "        }\n",
              "      </script>\n",
              "    </div>\n",
              "  </div>\n",
              "  "
            ]
          },
          "metadata": {},
          "execution_count": 24
        }
      ]
    },
    {
      "cell_type": "code",
      "execution_count": null,
      "metadata": {
        "id": "CaLmXZUgIuPe",
        "colab": {
          "base_uri": "https://localhost:8080/"
        },
        "outputId": "c1460bf9-5cf0-4c23-8081-d415d1b0899c"
      },
      "outputs": [
        {
          "output_type": "stream",
          "name": "stdout",
          "text": [
            "ERROR: unknown command \"instlla\" - maybe you meant \"install\"\n",
            "2023-05-31 01:38:46.196665: I tensorflow/core/platform/cpu_feature_guard.cc:182] This TensorFlow binary is optimized to use available CPU instructions in performance-critical operations.\n",
            "To enable the following instructions: AVX2 FMA, in other operations, rebuild TensorFlow with the appropriate compiler flags.\n",
            "2023-05-31 01:38:48.591113: W tensorflow/compiler/tf2tensorrt/utils/py_utils.cc:38] TF-TRT Warning: Could not find TensorRT\n",
            "Looking in indexes: https://pypi.org/simple, https://us-python.pkg.dev/colab-wheels/public/simple/\n",
            "Collecting en-core-web-sm==3.5.0\n",
            "  Downloading https://github.com/explosion/spacy-models/releases/download/en_core_web_sm-3.5.0/en_core_web_sm-3.5.0-py3-none-any.whl (12.8 MB)\n",
            "\u001b[2K     \u001b[90m━━━━━━━━━━━━━━━━━━━━━━━━━━━━━━━━━━━━━━━━\u001b[0m \u001b[32m12.8/12.8 MB\u001b[0m \u001b[31m34.6 MB/s\u001b[0m eta \u001b[36m0:00:00\u001b[0m\n",
            "\u001b[?25hRequirement already satisfied: spacy<3.6.0,>=3.5.0 in /usr/local/lib/python3.10/dist-packages (from en-core-web-sm==3.5.0) (3.5.2)\n",
            "Requirement already satisfied: spacy-legacy<3.1.0,>=3.0.11 in /usr/local/lib/python3.10/dist-packages (from spacy<3.6.0,>=3.5.0->en-core-web-sm==3.5.0) (3.0.12)\n",
            "Requirement already satisfied: spacy-loggers<2.0.0,>=1.0.0 in /usr/local/lib/python3.10/dist-packages (from spacy<3.6.0,>=3.5.0->en-core-web-sm==3.5.0) (1.0.4)\n",
            "Requirement already satisfied: murmurhash<1.1.0,>=0.28.0 in /usr/local/lib/python3.10/dist-packages (from spacy<3.6.0,>=3.5.0->en-core-web-sm==3.5.0) (1.0.9)\n",
            "Requirement already satisfied: cymem<2.1.0,>=2.0.2 in /usr/local/lib/python3.10/dist-packages (from spacy<3.6.0,>=3.5.0->en-core-web-sm==3.5.0) (2.0.7)\n",
            "Requirement already satisfied: preshed<3.1.0,>=3.0.2 in /usr/local/lib/python3.10/dist-packages (from spacy<3.6.0,>=3.5.0->en-core-web-sm==3.5.0) (3.0.8)\n",
            "Requirement already satisfied: thinc<8.2.0,>=8.1.8 in /usr/local/lib/python3.10/dist-packages (from spacy<3.6.0,>=3.5.0->en-core-web-sm==3.5.0) (8.1.9)\n",
            "Requirement already satisfied: wasabi<1.2.0,>=0.9.1 in /usr/local/lib/python3.10/dist-packages (from spacy<3.6.0,>=3.5.0->en-core-web-sm==3.5.0) (1.1.1)\n",
            "Requirement already satisfied: srsly<3.0.0,>=2.4.3 in /usr/local/lib/python3.10/dist-packages (from spacy<3.6.0,>=3.5.0->en-core-web-sm==3.5.0) (2.4.6)\n",
            "Requirement already satisfied: catalogue<2.1.0,>=2.0.6 in /usr/local/lib/python3.10/dist-packages (from spacy<3.6.0,>=3.5.0->en-core-web-sm==3.5.0) (2.0.8)\n",
            "Requirement already satisfied: typer<0.8.0,>=0.3.0 in /usr/local/lib/python3.10/dist-packages (from spacy<3.6.0,>=3.5.0->en-core-web-sm==3.5.0) (0.7.0)\n",
            "Requirement already satisfied: pathy>=0.10.0 in /usr/local/lib/python3.10/dist-packages (from spacy<3.6.0,>=3.5.0->en-core-web-sm==3.5.0) (0.10.1)\n",
            "Requirement already satisfied: smart-open<7.0.0,>=5.2.1 in /usr/local/lib/python3.10/dist-packages (from spacy<3.6.0,>=3.5.0->en-core-web-sm==3.5.0) (6.3.0)\n",
            "Requirement already satisfied: tqdm<5.0.0,>=4.38.0 in /usr/local/lib/python3.10/dist-packages (from spacy<3.6.0,>=3.5.0->en-core-web-sm==3.5.0) (4.65.0)\n",
            "Requirement already satisfied: numpy>=1.15.0 in /usr/local/lib/python3.10/dist-packages (from spacy<3.6.0,>=3.5.0->en-core-web-sm==3.5.0) (1.22.4)\n",
            "Requirement already satisfied: requests<3.0.0,>=2.13.0 in /usr/local/lib/python3.10/dist-packages (from spacy<3.6.0,>=3.5.0->en-core-web-sm==3.5.0) (2.27.1)\n",
            "Requirement already satisfied: pydantic!=1.8,!=1.8.1,<1.11.0,>=1.7.4 in /usr/local/lib/python3.10/dist-packages (from spacy<3.6.0,>=3.5.0->en-core-web-sm==3.5.0) (1.10.7)\n",
            "Requirement already satisfied: jinja2 in /usr/local/lib/python3.10/dist-packages (from spacy<3.6.0,>=3.5.0->en-core-web-sm==3.5.0) (3.1.2)\n",
            "Requirement already satisfied: setuptools in /usr/local/lib/python3.10/dist-packages (from spacy<3.6.0,>=3.5.0->en-core-web-sm==3.5.0) (67.7.2)\n",
            "Requirement already satisfied: packaging>=20.0 in /usr/local/lib/python3.10/dist-packages (from spacy<3.6.0,>=3.5.0->en-core-web-sm==3.5.0) (23.1)\n",
            "Requirement already satisfied: langcodes<4.0.0,>=3.2.0 in /usr/local/lib/python3.10/dist-packages (from spacy<3.6.0,>=3.5.0->en-core-web-sm==3.5.0) (3.3.0)\n",
            "Requirement already satisfied: typing-extensions>=4.2.0 in /usr/local/lib/python3.10/dist-packages (from pydantic!=1.8,!=1.8.1,<1.11.0,>=1.7.4->spacy<3.6.0,>=3.5.0->en-core-web-sm==3.5.0) (4.5.0)\n",
            "Requirement already satisfied: urllib3<1.27,>=1.21.1 in /usr/local/lib/python3.10/dist-packages (from requests<3.0.0,>=2.13.0->spacy<3.6.0,>=3.5.0->en-core-web-sm==3.5.0) (1.26.15)\n",
            "Requirement already satisfied: certifi>=2017.4.17 in /usr/local/lib/python3.10/dist-packages (from requests<3.0.0,>=2.13.0->spacy<3.6.0,>=3.5.0->en-core-web-sm==3.5.0) (2022.12.7)\n",
            "Requirement already satisfied: charset-normalizer~=2.0.0 in /usr/local/lib/python3.10/dist-packages (from requests<3.0.0,>=2.13.0->spacy<3.6.0,>=3.5.0->en-core-web-sm==3.5.0) (2.0.12)\n",
            "Requirement already satisfied: idna<4,>=2.5 in /usr/local/lib/python3.10/dist-packages (from requests<3.0.0,>=2.13.0->spacy<3.6.0,>=3.5.0->en-core-web-sm==3.5.0) (3.4)\n",
            "Requirement already satisfied: blis<0.8.0,>=0.7.8 in /usr/local/lib/python3.10/dist-packages (from thinc<8.2.0,>=8.1.8->spacy<3.6.0,>=3.5.0->en-core-web-sm==3.5.0) (0.7.9)\n",
            "Requirement already satisfied: confection<1.0.0,>=0.0.1 in /usr/local/lib/python3.10/dist-packages (from thinc<8.2.0,>=8.1.8->spacy<3.6.0,>=3.5.0->en-core-web-sm==3.5.0) (0.0.4)\n",
            "Requirement already satisfied: click<9.0.0,>=7.1.1 in /usr/local/lib/python3.10/dist-packages (from typer<0.8.0,>=0.3.0->spacy<3.6.0,>=3.5.0->en-core-web-sm==3.5.0) (8.1.3)\n",
            "Requirement already satisfied: MarkupSafe>=2.0 in /usr/local/lib/python3.10/dist-packages (from jinja2->spacy<3.6.0,>=3.5.0->en-core-web-sm==3.5.0) (2.1.2)\n",
            "\u001b[38;5;2m✔ Download and installation successful\u001b[0m\n",
            "You can now load the package via spacy.load('en_core_web_sm')\n"
          ]
        }
      ],
      "source": [
        "!pip instlla -U spacy\n",
        "!python -m spacy download en_core_web_sm"
      ]
    },
    {
      "cell_type": "code",
      "execution_count": null,
      "metadata": {
        "id": "ojp7UCn0I7Up"
      },
      "outputs": [],
      "source": [
        "import spacy\n",
        "from spacy.lang.en.stop_words import STOP_WORDS\n",
        "from string import punctuation"
      ]
    },
    {
      "cell_type": "code",
      "execution_count": null,
      "metadata": {
        "id": "wlfvuKzTI8Rr"
      },
      "outputs": [],
      "source": [
        "stopwords = list(STOP_WORDS)"
      ]
    },
    {
      "cell_type": "code",
      "execution_count": null,
      "metadata": {
        "id": "4whF7fFzJCcU"
      },
      "outputs": [],
      "source": [
        "nlp = spacy.load('en_core_web_sm')"
      ]
    },
    {
      "cell_type": "code",
      "execution_count": null,
      "metadata": {
        "id": "Lqz6bwndJpjK",
        "colab": {
          "base_uri": "https://localhost:8080/",
          "height": 70
        },
        "outputId": "395c264e-b0e2-487b-fdcd-894e30428ba2"
      },
      "outputs": [
        {
          "output_type": "execute_result",
          "data": {
            "text/plain": [
              "'Good morning my name is XXXX XXXX and I appreciate it if you could help me put a stop to Chase Bank cardmember services. \\nIn 2018 I wrote to Chase asking for debt verification and what they sent me a statement which is not acceptable. I am asking the bank to validate the debt. Instead I been receiving mail every month from them attempting to collect a debt. \\nI have a right to know this information as a consumer. \\n\\nChase account # XXXX XXXX XXXX XXXX Thanks in advance for your help.'"
            ],
            "application/vnd.google.colaboratory.intrinsic+json": {
              "type": "string"
            }
          },
          "metadata": {},
          "execution_count": 66
        }
      ],
      "source": [
        "text = df['complaint'][0]\n",
        "text"
      ]
    },
    {
      "cell_type": "code",
      "execution_count": null,
      "metadata": {
        "id": "ekqG_M9dJ3Ww",
        "colab": {
          "base_uri": "https://localhost:8080/"
        },
        "outputId": "9010c0fe-9965-451c-ba8a-af4f073f213b"
      },
      "outputs": [
        {
          "output_type": "stream",
          "name": "stdout",
          "text": [
            "['Good', 'morning', 'my', 'name', 'is', 'XXXX', 'XXXX', 'and', 'I', 'appreciate', 'it', 'if', 'you', 'could', 'help', 'me', 'put', 'a', 'stop', 'to', 'Chase', 'Bank', 'cardmember', 'services', '.', '\\n', 'In', '2018', 'I', 'wrote', 'to', 'Chase', 'asking', 'for', 'debt', 'verification', 'and', 'what', 'they', 'sent', 'me', 'a', 'statement', 'which', 'is', 'not', 'acceptable', '.', 'I', 'am', 'asking', 'the', 'bank', 'to', 'validate', 'the', 'debt', '.', 'Instead', 'I', 'been', 'receiving', 'mail', 'every', 'month', 'from', 'them', 'attempting', 'to', 'collect', 'a', 'debt', '.', '\\n', 'I', 'have', 'a', 'right', 'to', 'know', 'this', 'information', 'as', 'a', 'consumer', '.', '\\n\\n', 'Chase', 'account', '#', 'XXXX', 'XXXX', 'XXXX', 'XXXX', 'Thanks', 'in', 'advance', 'for', 'your', 'help', '.']\n"
          ]
        }
      ],
      "source": [
        "doc = nlp(text)\n",
        "tokens = [token.text for token in doc]\n",
        "print(tokens)"
      ]
    },
    {
      "cell_type": "code",
      "execution_count": null,
      "metadata": {
        "id": "B50VXpFCKBRe",
        "colab": {
          "base_uri": "https://localhost:8080/",
          "height": 35
        },
        "outputId": "97ba185a-b0f8-4825-89e3-58ebb2698248"
      },
      "outputs": [
        {
          "output_type": "execute_result",
          "data": {
            "text/plain": [
              "'!\"#$%&\\'()*+,-./:;<=>?@[\\\\]^_`{|}~\\n\\n'"
            ],
            "application/vnd.google.colaboratory.intrinsic+json": {
              "type": "string"
            }
          },
          "metadata": {},
          "execution_count": 68
        }
      ],
      "source": [
        "punctuation = punctuation + '\\n'\n",
        "punctuation"
      ]
    },
    {
      "cell_type": "code",
      "execution_count": null,
      "metadata": {
        "id": "87zOJDP0MjNt"
      },
      "outputs": [],
      "source": [
        "word_frequencies = {}\n",
        "for word in doc:\n",
        "  if word.text.lower() not in stopwords:\n",
        "    if word.text.lower() not in punctuation:\n",
        "      if word.text not in word_frequencies.keys():\n",
        "        word_frequencies[word.text] = 1\n",
        "      else:\n",
        "        word_frequencies[word.text] += 1"
      ]
    },
    {
      "cell_type": "code",
      "execution_count": null,
      "metadata": {
        "id": "S7AZUOH-Mj1i"
      },
      "outputs": [],
      "source": [
        "max_frequency = max(word_frequencies.values())"
      ]
    },
    {
      "cell_type": "code",
      "execution_count": null,
      "metadata": {
        "id": "VoiHu2QlMnVi"
      },
      "outputs": [],
      "source": [
        "for word in word_frequencies.keys():\n",
        "  word_frequencies[word] = word_frequencies[word]/max_frequency"
      ]
    },
    {
      "cell_type": "code",
      "execution_count": null,
      "metadata": {
        "id": "DTe8ah8lMp2V"
      },
      "outputs": [],
      "source": [
        "sentence_tokens = [sent for sent in doc.sents]"
      ]
    },
    {
      "cell_type": "code",
      "execution_count": null,
      "metadata": {
        "id": "iHFC1WIzMrtd"
      },
      "outputs": [],
      "source": [
        "sentence_scores = {}\n",
        "for sent in sentence_tokens:\n",
        "  for word in sent:\n",
        "    if word.text.lower() in word_frequencies.keys():\n",
        "      if sent not in sentence_scores.keys():\n",
        "        sentence_scores[sent] = word_frequencies[word.text.lower()]\n",
        "      else:\n",
        "        sentence_scores[sent] += word_frequencies[word.text.lower()]"
      ]
    },
    {
      "cell_type": "code",
      "execution_count": null,
      "metadata": {
        "id": "UF8j4SOFMt42"
      },
      "outputs": [],
      "source": [
        "from heapq import nlargest"
      ]
    },
    {
      "cell_type": "code",
      "execution_count": null,
      "metadata": {
        "id": "dskpuuSIMv0m",
        "colab": {
          "base_uri": "https://localhost:8080/"
        },
        "outputId": "82d929f6-e029-45c4-e322-39a8ab035451"
      },
      "outputs": [
        {
          "output_type": "execute_result",
          "data": {
            "text/plain": [
              "3"
            ]
          },
          "metadata": {},
          "execution_count": 75
        }
      ],
      "source": [
        "select_length = int(len(sentence_tokens)*0.5)\n",
        "select_length"
      ]
    },
    {
      "cell_type": "code",
      "execution_count": null,
      "metadata": {
        "id": "0cHa_76IMx8E",
        "colab": {
          "base_uri": "https://localhost:8080/"
        },
        "outputId": "b82e504d-58f6-435e-9208-2a3e1888298a"
      },
      "outputs": [
        {
          "output_type": "execute_result",
          "data": {
            "text/plain": [
              "[In 2018 I wrote to Chase asking for debt verification and what they sent me a statement which is not acceptable.,\n",
              " Instead I been receiving mail every month from them attempting to collect a debt. ,\n",
              " and I appreciate it if you could help me put a stop to Chase Bank cardmember services. ]"
            ]
          },
          "metadata": {},
          "execution_count": 76
        }
      ],
      "source": [
        "summary = nlargest(select_length, sentence_scores, key = sentence_scores.get)\n",
        "summary"
      ]
    },
    {
      "cell_type": "markdown",
      "source": [
        "#TF-IDF"
      ],
      "metadata": {
        "id": "BiAi1o5_GYWW"
      }
    },
    {
      "cell_type": "code",
      "source": [
        "import nltk\n",
        "nltk.download('wordnet')\n",
        "nltk.download('punkt')\n",
        "nltk.download('averaged_perceptron_tagger')\n",
        "nltk.download('stopwords')"
      ],
      "metadata": {
        "colab": {
          "base_uri": "https://localhost:8080/"
        },
        "id": "KQgTFzJKxwmt",
        "outputId": "b03fd61e-9938-4601-eceb-4c4837b7918d"
      },
      "execution_count": null,
      "outputs": [
        {
          "output_type": "stream",
          "name": "stderr",
          "text": [
            "[nltk_data] Downloading package wordnet to /root/nltk_data...\n",
            "[nltk_data]   Package wordnet is already up-to-date!\n",
            "[nltk_data] Downloading package punkt to /root/nltk_data...\n",
            "[nltk_data]   Package punkt is already up-to-date!\n",
            "[nltk_data] Downloading package averaged_perceptron_tagger to\n",
            "[nltk_data]     /root/nltk_data...\n",
            "[nltk_data]   Package averaged_perceptron_tagger is already up-to-\n",
            "[nltk_data]       date!\n",
            "[nltk_data] Downloading package stopwords to /root/nltk_data...\n",
            "[nltk_data]   Package stopwords is already up-to-date!\n"
          ]
        },
        {
          "output_type": "execute_result",
          "data": {
            "text/plain": [
              "True"
            ]
          },
          "metadata": {},
          "execution_count": 43
        }
      ]
    },
    {
      "cell_type": "code",
      "source": [
        "from nltk.stem.wordnet import WordNetLemmatizer\n",
        "from nltk.corpus import stopwords\n",
        "\n",
        "def lemma_clean(text, tags):\n",
        "  tag = nltk.pos_tag(nltk.word_tokenize(text))\n",
        "  result = [w.lower() for (w, t) in tag\n",
        "            if t in tags and w.isalpha() and w != 'XXXX' and w not in stopwords.words()]\n",
        "\n",
        "  lemmatizer = WordNetLemmatizer()\n",
        "  result = [lemmatizer.lemmatize(w) for w in result]\n",
        "  if result == list():\n",
        "    return None\n",
        "  return ' '.join(result)"
      ],
      "metadata": {
        "id": "5JsDXS61Gauw"
      },
      "execution_count": null,
      "outputs": []
    },
    {
      "cell_type": "code",
      "source": [
        "from tqdm import tqdm\n",
        "\n",
        "tags = ['NN', 'VB']\n",
        "\n",
        "clean = list()\n",
        "for step, complaint in tqdm(enumerate(df['complaint']), total=df.shape[0]):\n",
        "  clean.append(lemma_clean(complaint, tags))\n",
        "df['clean_complaint'] = clean\n",
        "df"
      ],
      "metadata": {
        "id": "5g2pE32C3V5b",
        "colab": {
          "base_uri": "https://localhost:8080/",
          "height": 398
        },
        "outputId": "ee6624ad-9487-4e3b-bd4f-df6dd42dbee2"
      },
      "execution_count": null,
      "outputs": [
        {
          "output_type": "stream",
          "name": "stderr",
          "text": [
            "  0%|          | 44/12858 [00:23<1:54:17,  1.87it/s]\n"
          ]
        },
        {
          "output_type": "error",
          "ename": "KeyboardInterrupt",
          "evalue": "ignored",
          "traceback": [
            "\u001b[0;31m---------------------------------------------------------------------------\u001b[0m",
            "\u001b[0;31mKeyboardInterrupt\u001b[0m                         Traceback (most recent call last)",
            "\u001b[0;32m<ipython-input-42-1c082511f94e>\u001b[0m in \u001b[0;36m<cell line: 6>\u001b[0;34m()\u001b[0m\n\u001b[1;32m      5\u001b[0m \u001b[0mclean\u001b[0m \u001b[0;34m=\u001b[0m \u001b[0mlist\u001b[0m\u001b[0;34m(\u001b[0m\u001b[0;34m)\u001b[0m\u001b[0;34m\u001b[0m\u001b[0;34m\u001b[0m\u001b[0m\n\u001b[1;32m      6\u001b[0m \u001b[0;32mfor\u001b[0m \u001b[0mstep\u001b[0m\u001b[0;34m,\u001b[0m \u001b[0mcomplaint\u001b[0m \u001b[0;32min\u001b[0m \u001b[0mtqdm\u001b[0m\u001b[0;34m(\u001b[0m\u001b[0menumerate\u001b[0m\u001b[0;34m(\u001b[0m\u001b[0mdf\u001b[0m\u001b[0;34m[\u001b[0m\u001b[0;34m'complaint'\u001b[0m\u001b[0;34m]\u001b[0m\u001b[0;34m)\u001b[0m\u001b[0;34m,\u001b[0m \u001b[0mtotal\u001b[0m\u001b[0;34m=\u001b[0m\u001b[0mdf\u001b[0m\u001b[0;34m.\u001b[0m\u001b[0mshape\u001b[0m\u001b[0;34m[\u001b[0m\u001b[0;36m0\u001b[0m\u001b[0;34m]\u001b[0m\u001b[0;34m)\u001b[0m\u001b[0;34m:\u001b[0m\u001b[0;34m\u001b[0m\u001b[0;34m\u001b[0m\u001b[0m\n\u001b[0;32m----> 7\u001b[0;31m   \u001b[0mclean\u001b[0m\u001b[0;34m.\u001b[0m\u001b[0mappend\u001b[0m\u001b[0;34m(\u001b[0m\u001b[0mlemma_clean\u001b[0m\u001b[0;34m(\u001b[0m\u001b[0mcomplaint\u001b[0m\u001b[0;34m,\u001b[0m \u001b[0mtags\u001b[0m\u001b[0;34m)\u001b[0m\u001b[0;34m)\u001b[0m\u001b[0;34m\u001b[0m\u001b[0;34m\u001b[0m\u001b[0m\n\u001b[0m\u001b[1;32m      8\u001b[0m \u001b[0mdf\u001b[0m\u001b[0;34m[\u001b[0m\u001b[0;34m'clean_complaint'\u001b[0m\u001b[0;34m]\u001b[0m \u001b[0;34m=\u001b[0m \u001b[0mclean\u001b[0m\u001b[0;34m\u001b[0m\u001b[0;34m\u001b[0m\u001b[0m\n\u001b[1;32m      9\u001b[0m \u001b[0mdf\u001b[0m\u001b[0;34m\u001b[0m\u001b[0;34m\u001b[0m\u001b[0m\n",
            "\u001b[0;32m<ipython-input-41-048304108662>\u001b[0m in \u001b[0;36mlemma_clean\u001b[0;34m(text, tags)\u001b[0m\n\u001b[1;32m      4\u001b[0m \u001b[0;32mdef\u001b[0m \u001b[0mlemma_clean\u001b[0m\u001b[0;34m(\u001b[0m\u001b[0mtext\u001b[0m\u001b[0;34m,\u001b[0m \u001b[0mtags\u001b[0m\u001b[0;34m)\u001b[0m\u001b[0;34m:\u001b[0m\u001b[0;34m\u001b[0m\u001b[0;34m\u001b[0m\u001b[0m\n\u001b[1;32m      5\u001b[0m   \u001b[0mtag\u001b[0m \u001b[0;34m=\u001b[0m \u001b[0mnltk\u001b[0m\u001b[0;34m.\u001b[0m\u001b[0mpos_tag\u001b[0m\u001b[0;34m(\u001b[0m\u001b[0mnltk\u001b[0m\u001b[0;34m.\u001b[0m\u001b[0mword_tokenize\u001b[0m\u001b[0;34m(\u001b[0m\u001b[0mtext\u001b[0m\u001b[0;34m)\u001b[0m\u001b[0;34m)\u001b[0m\u001b[0;34m\u001b[0m\u001b[0;34m\u001b[0m\u001b[0m\n\u001b[0;32m----> 6\u001b[0;31m   result = [w.lower() for (w, t) in tag \n\u001b[0m\u001b[1;32m      7\u001b[0m             if t in tags and w.isalpha() and w != 'XXXX' and w not in stopwords.words()]\n\u001b[1;32m      8\u001b[0m \u001b[0;34m\u001b[0m\u001b[0m\n",
            "\u001b[0;32m<ipython-input-41-048304108662>\u001b[0m in \u001b[0;36m<listcomp>\u001b[0;34m(.0)\u001b[0m\n\u001b[1;32m      5\u001b[0m   \u001b[0mtag\u001b[0m \u001b[0;34m=\u001b[0m \u001b[0mnltk\u001b[0m\u001b[0;34m.\u001b[0m\u001b[0mpos_tag\u001b[0m\u001b[0;34m(\u001b[0m\u001b[0mnltk\u001b[0m\u001b[0;34m.\u001b[0m\u001b[0mword_tokenize\u001b[0m\u001b[0;34m(\u001b[0m\u001b[0mtext\u001b[0m\u001b[0;34m)\u001b[0m\u001b[0;34m)\u001b[0m\u001b[0;34m\u001b[0m\u001b[0;34m\u001b[0m\u001b[0m\n\u001b[1;32m      6\u001b[0m   result = [w.lower() for (w, t) in tag \n\u001b[0;32m----> 7\u001b[0;31m             if t in tags and w.isalpha() and w != 'XXXX' and w not in stopwords.words()]\n\u001b[0m\u001b[1;32m      8\u001b[0m \u001b[0;34m\u001b[0m\u001b[0m\n\u001b[1;32m      9\u001b[0m   \u001b[0mlemmatizer\u001b[0m \u001b[0;34m=\u001b[0m \u001b[0mWordNetLemmatizer\u001b[0m\u001b[0;34m(\u001b[0m\u001b[0;34m)\u001b[0m\u001b[0;34m\u001b[0m\u001b[0;34m\u001b[0m\u001b[0m\n",
            "\u001b[0;32m/usr/local/lib/python3.10/dist-packages/nltk/corpus/reader/wordlist.py\u001b[0m in \u001b[0;36mwords\u001b[0;34m(self, fileids, ignore_lines_startswith)\u001b[0m\n\u001b[1;32m     17\u001b[0m \u001b[0;34m\u001b[0m\u001b[0m\n\u001b[1;32m     18\u001b[0m     \u001b[0;32mdef\u001b[0m \u001b[0mwords\u001b[0m\u001b[0;34m(\u001b[0m\u001b[0mself\u001b[0m\u001b[0;34m,\u001b[0m \u001b[0mfileids\u001b[0m\u001b[0;34m=\u001b[0m\u001b[0;32mNone\u001b[0m\u001b[0;34m,\u001b[0m \u001b[0mignore_lines_startswith\u001b[0m\u001b[0;34m=\u001b[0m\u001b[0;34m\"\\n\"\u001b[0m\u001b[0;34m)\u001b[0m\u001b[0;34m:\u001b[0m\u001b[0;34m\u001b[0m\u001b[0;34m\u001b[0m\u001b[0m\n\u001b[0;32m---> 19\u001b[0;31m         return [\n\u001b[0m\u001b[1;32m     20\u001b[0m             \u001b[0mline\u001b[0m\u001b[0;34m\u001b[0m\u001b[0;34m\u001b[0m\u001b[0m\n\u001b[1;32m     21\u001b[0m             \u001b[0;32mfor\u001b[0m \u001b[0mline\u001b[0m \u001b[0;32min\u001b[0m \u001b[0mline_tokenize\u001b[0m\u001b[0;34m(\u001b[0m\u001b[0mself\u001b[0m\u001b[0;34m.\u001b[0m\u001b[0mraw\u001b[0m\u001b[0;34m(\u001b[0m\u001b[0mfileids\u001b[0m\u001b[0;34m)\u001b[0m\u001b[0;34m)\u001b[0m\u001b[0;34m\u001b[0m\u001b[0;34m\u001b[0m\u001b[0m\n",
            "\u001b[0;32m/usr/local/lib/python3.10/dist-packages/nltk/corpus/reader/wordlist.py\u001b[0m in \u001b[0;36m<listcomp>\u001b[0;34m(.0)\u001b[0m\n\u001b[1;32m     20\u001b[0m             \u001b[0mline\u001b[0m\u001b[0;34m\u001b[0m\u001b[0;34m\u001b[0m\u001b[0m\n\u001b[1;32m     21\u001b[0m             \u001b[0;32mfor\u001b[0m \u001b[0mline\u001b[0m \u001b[0;32min\u001b[0m \u001b[0mline_tokenize\u001b[0m\u001b[0;34m(\u001b[0m\u001b[0mself\u001b[0m\u001b[0;34m.\u001b[0m\u001b[0mraw\u001b[0m\u001b[0;34m(\u001b[0m\u001b[0mfileids\u001b[0m\u001b[0;34m)\u001b[0m\u001b[0;34m)\u001b[0m\u001b[0;34m\u001b[0m\u001b[0;34m\u001b[0m\u001b[0m\n\u001b[0;32m---> 22\u001b[0;31m             \u001b[0;32mif\u001b[0m \u001b[0;32mnot\u001b[0m \u001b[0mline\u001b[0m\u001b[0;34m.\u001b[0m\u001b[0mstartswith\u001b[0m\u001b[0;34m(\u001b[0m\u001b[0mignore_lines_startswith\u001b[0m\u001b[0;34m)\u001b[0m\u001b[0;34m\u001b[0m\u001b[0;34m\u001b[0m\u001b[0m\n\u001b[0m\u001b[1;32m     23\u001b[0m         ]\n\u001b[1;32m     24\u001b[0m \u001b[0;34m\u001b[0m\u001b[0m\n",
            "\u001b[0;31mKeyboardInterrupt\u001b[0m: "
          ]
        }
      ]
    },
    {
      "cell_type": "code",
      "source": [
        "df.dropna(inplace=True)\n",
        "df.reset_index(inplace=True, drop=True)"
      ],
      "metadata": {
        "id": "Mt4CQPmKSkjY"
      },
      "execution_count": null,
      "outputs": []
    },
    {
      "cell_type": "code",
      "source": [
        "df.to_csv(root+'tfidf_data.csv')"
      ],
      "metadata": {
        "id": "95ru-VDgSl3U"
      },
      "execution_count": null,
      "outputs": []
    },
    {
      "cell_type": "code",
      "source": [
        "from sklearn.feature_extraction.text import TfidfVectorizer\n",
        "\n",
        "df = pd.read_csv(root+'tfidf_data.csv')\n",
        "tfidf = TfidfVectorizer(max_df=0.85, min_df=2, stop_words='english')\n",
        "dtm = tfidf.fit_transform(df['clean_complaint'])\n",
        "print(dtm)"
      ],
      "metadata": {
        "id": "8eITWMWPSnRE"
      },
      "execution_count": null,
      "outputs": []
    },
    {
      "cell_type": "code",
      "source": [],
      "metadata": {
        "id": "4KYqk4CHkPLb"
      },
      "execution_count": null,
      "outputs": []
    },
    {
      "cell_type": "markdown",
      "source": [
        "#LDA"
      ],
      "metadata": {
        "id": "B_J217evTDdU"
      }
    },
    {
      "cell_type": "code",
      "source": [
        "from gensim.corpora.dictionary import Dictionary\n",
        "\n",
        "data = [x.split() for x in df['clean_complaint']]\n",
        "\n",
        "dictionary = Dictionary(data)\n",
        "dictionary.filter_extremes(\n",
        "    no_below=2,\n",
        "    no_above=0.85,\n",
        "    keep_n=5000\n",
        ")\n",
        "\n",
        "corpus = [dictionary.doc2bow(text) for text in data]"
      ],
      "metadata": {
        "id": "4Na9rFMCTEkB"
      },
      "execution_count": null,
      "outputs": []
    },
    {
      "cell_type": "code",
      "source": [
        "from gensim.models import LdaMulticore\n",
        "\n",
        "lda_model = LdaMulticore(corpus,\n",
        "                         num_topics=3,\n",
        "                         id2word=dictionary,\n",
        "                        #  alpha=0.1,\n",
        "                        #  eta=0.1,\n",
        "                         passes=10,\n",
        "                         workers=1)"
      ],
      "metadata": {
        "id": "rh_AS7bsTPRe"
      },
      "execution_count": null,
      "outputs": []
    },
    {
      "cell_type": "code",
      "source": [
        "for idx,topic in lda_model.print_topics(-1):\n",
        "    print(\"Topic: {} \\nWords: {}\".format(idx, topic))\n",
        "    print(\"\\n\")"
      ],
      "metadata": {
        "id": "cNyjEHK6TQrT"
      },
      "execution_count": null,
      "outputs": []
    },
    {
      "cell_type": "code",
      "source": [
        "lda_model = LdaMulticore(corpus,\n",
        "                         num_topics=6,\n",
        "                         id2word=dictionary,\n",
        "                         passes=10,\n",
        "                         workers=None)"
      ],
      "metadata": {
        "id": "j2sPqTZ8lQay"
      },
      "execution_count": null,
      "outputs": []
    },
    {
      "cell_type": "code",
      "source": [
        "for idx,topic in lda_model.print_topics(-1):\n",
        "    print(\"Topic: {} \\nWords: {}\".format(idx, topic))\n",
        "    # print(\"words: {}\".format(\" \".join(topic)))\n",
        "    print(\"\\n\")"
      ],
      "metadata": {
        "id": "x3b8ik7s8fsH"
      },
      "execution_count": null,
      "outputs": []
    },
    {
      "cell_type": "code",
      "source": [
        "from gensim.models.coherencemodel import CoherenceModel\n",
        "\n",
        "coherence_model = CoherenceModel(model=lda_model,\n",
        "                                 texts=[nltk.word_tokenize(complaint) for complaint in df['clean_complaint']],\n",
        "                                 dictionary=dictionary,\n",
        "                                 coherence='c_v')\n",
        "print(coherence_model.get_coherence())"
      ],
      "metadata": {
        "id": "bAf_3PyrTSKc"
      },
      "execution_count": null,
      "outputs": []
    },
    {
      "cell_type": "markdown",
      "source": [
        "###Find Ideal Topic Number"
      ],
      "metadata": {
        "id": "EHw5MktmTguD"
      }
    },
    {
      "cell_type": "code",
      "source": [
        "import matplotlib.pyplot as plt\n",
        "\n",
        "coherence_scores = list()\n",
        "for i in range(2, 7):\n",
        "  lda_model = LdaMulticore(corpus,\n",
        "                         num_topics=i,\n",
        "                         id2word=dictionary,\n",
        "                         passes=10,\n",
        "                         workers=1,\n",
        "                         alpha = 1,\n",
        "                         eta = 0.5,\n",
        "                         decay = 0.7)\n",
        "  coherence_model = CoherenceModel(model=lda_model,\n",
        "                                 texts=[nltk.word_tokenize(complaint) for complaint in df['clean_complaint']],\n",
        "                                 dictionary=dictionary,\n",
        "                                 coherence='c_v')\n",
        "  coherence_scores.append(coherence_model.get_coherence())"
      ],
      "metadata": {
        "id": "8BrqSkzATemi"
      },
      "execution_count": null,
      "outputs": []
    },
    {
      "cell_type": "code",
      "source": [
        "plt.plot(range(2, 7), coherence_scores)\n",
        "plt.xlabel(\"Num Topics\")\n",
        "plt.ylabel(\"Coherence score\")\n",
        "plt.legend((\"coherence_values\"), loc='best')\n",
        "plt.show()"
      ],
      "metadata": {
        "id": "hGOPM_BrTgNv"
      },
      "execution_count": null,
      "outputs": []
    },
    {
      "cell_type": "code",
      "source": [],
      "metadata": {
        "id": "zFgmYgvZp1If"
      },
      "execution_count": null,
      "outputs": []
    }
  ]
}